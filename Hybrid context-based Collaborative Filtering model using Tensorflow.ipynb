{
 "cells": [
  {
   "cell_type": "markdown",
   "metadata": {},
   "source": [
    "## Multi Layer Perceptron using Tensorflow (incorporating contextual information)"
   ]
  },
  {
   "cell_type": "code",
   "execution_count": 5,
   "metadata": {},
   "outputs": [],
   "source": [
    "#Installing and importing the required libraries\n",
    "!pip install tensorflow #(important to import keras from tensorflow to avoid\n",
    "#compatibility issues between tensorflow and keras)\n",
    "!pip install pandas\n",
    "!pip install sklearn\n",
    "!pip install tensorflow\n",
    "!pip install seaborn\n",
    "import numpy as np\n",
    "import pandas as pd\n",
    "import tensorflow\n",
    "from tensorflow import keras\n",
    "from tensorflow.keras import Sequential\n",
    "from tensorflow.keras.layers import *\n",
    "from tensorflow.keras.models import Model, load_model\n",
    "from tensorflow.keras.optimizers import Adam\n",
    "from tensorflow.keras.callbacks import ModelCheckpoint\n",
    "from sklearn.feature_extraction.text import TfidfVectorizer, CountVectorizer\n",
    "from sklearn.preprocessing import LabelEncoder, OneHotEncoder\n",
    "import matplotlib.pyplot as plt\n",
    "import seaborn as sns\n",
    "from sklearn.feature_extraction.text import TfidfVectorizer    \n",
    "from sklearn import preprocessing\n",
    "from sklearn.metrics.pairwise import cosine_similarity\n",
    "from sklearn.feature_extraction.text import CountVectorizer\n",
    "%matplotlib inline"
   ]
  },
  {
   "cell_type": "code",
   "execution_count": 2,
   "metadata": {},
   "outputs": [],
   "source": [
    "ratings_file2 = pd.read_csv('rfile2NOMODIFY.csv')"
   ]
  },
  {
   "cell_type": "markdown",
   "metadata": {},
   "source": [
    "### Data Cleaning"
   ]
  },
  {
   "cell_type": "code",
   "execution_count": 237,
   "metadata": {},
   "outputs": [],
   "source": [
    "\n",
    "\n",
    "# Loading test dataset for cleaning\n",
    "test_ratings = pd.read_csv('/Volumes/Samsung_T5/Yahoo Movie Dataset 26.02.21/ydata-ymovies-user-movie-ratings-test-v1_0.csv', header=None)\n",
    "test_ratings = test_ratings.rename({0:'user_id', 1:'film_id', 2:'rating'}, axis=1)\n",
    "test_ratings = test_ratings.drop(test_ratings.columns[-1], axis=1)\n",
    "test_ratings['old_id'] = test_ratings['film_id']\n",
    "\n",
    "#Loading train dataset for cleaning\n",
    "train_ratings = pd.read_csv('r_train.csv',skipinitialspace=True)\n",
    "train_ratings.user_id.unique().shape\n",
    "train_ratings = train_ratings.iloc[:,0:3]\n",
    "train_ratings = train_ratings.rename(columns = {0:'user_id', 1:'film_id', 2:'rating'})\n",
    "train_ratings['old_id'] = train_ratings['film_id']\n",
    "\n",
    "#Applying function to map film ids to a number which the model can handle (from 1 to the n - where n is the total number of unique films)\n",
    "def change(val):\n",
    "    return r_train.film_id.loc[r_train.old_id==val].iloc[0]    \n",
    "test_ratings['film_id'] = test_ratings['film_id'].apply(change)\n",
    "\n",
    "uncompleted2 = [num for num in range(test_ratings.film_id.shape[0])]\n",
    "film_map = {val:i for i,val in enumerate(train_ratings['film_id'])}\n",
    "\n",
    "for val in test_ratings.film_id.unique():\n",
    "    if len(uncompleted2) > 0:\n",
    "        test_ratings['film_id'] = test_ratings['film_id'].replace([val], uncompleted2[0])\n",
    "        uncompleted2.remove(uncompleted2[0])\n",
    "test_ratings.to_csv('test_ratings_new.csv', index=False)\n",
    "\n",
    "films = train_ratings.film_id.unique()\n",
    "film = [film for film in films]\n",
    "uncompleted = [num for num in range(11916)]\n",
    "\n",
    "for val in train_ratings.film_id.unique():\n",
    "    if len(uncompleted) > 0:\n",
    "        train_ratings['film_id'] = train_ratings['film_id'].replace([val], uncompleted[0])\n",
    "        uncompleted.remove(uncompleted[0])\n",
    "\n",
    "#Min-max normalisation (to get values within the range 0 and 1 \n",
    "#to facilitate use of tensorflow models)\n",
    "min_rating = min(min(r_train.rating), min(r_test.rating))\n",
    "max_rating = max(max(r_train.rating), max(r_test.rating))\n",
    "\n",
    "r_train['rating'] = r_train['rating'].apply(lambda x: (x - min_rating) / (max_rating - min_rating))\n",
    "r_test['rating'] = r_test['rating'].apply(lambda x: (x - min_rating) / (max_rating - min_rating))"
   ]
  },
  {
   "cell_type": "code",
   "execution_count": 5,
   "metadata": {},
   "outputs": [],
   "source": [
    "#Loading file containing chosen attributes about ratings,\n",
    "#user, film and contextual data\n",
    "ratings_file2 = pd.read_csv('ratings_file2.csv')\n",
    "#Rounding ratings to 2 d.p. for simplification\n",
    "ratings_file2 = ratings_file2.round(2)\n",
    "#Viewing the file's dimensions\n",
    "ratings_file2.shape"
   ]
  },
  {
   "cell_type": "code",
   "execution_count": 27,
   "metadata": {},
   "outputs": [],
   "source": [
    "ratings_file2 = ratings_file2.drop(columns=['old_id', 'bagofwords'], axis=1)\n",
    "#changing the order of the rows to train and the test the data using unordered samples\n",
    "ratings_file2 = ratings_file2.sample(frac=1).reset_index(drop=True)\n",
    "ratings_file2.to_csv('ratings_file2.csv', index=False)"
   ]
  },
  {
   "cell_type": "code",
   "execution_count": 23,
   "metadata": {},
   "outputs": [],
   "source": [
    "import sklearn\n",
    "from sklearn.model_selection import train_test_split\n",
    "\n",
    "train, test = train_test_split(combnotmodify, test_size=0.15, random_state=42)"
   ]
  },
  {
   "cell_type": "code",
   "execution_count": 12,
   "metadata": {},
   "outputs": [],
   "source": [
    "combnotmodify = pd.concat([tfidfpcadfcom,ratings_file2],axis=1)\n",
    "combnotmodify.rename({'0':'context'}, inplace=True, axis=1)"
   ]
  },
  {
   "cell_type": "code",
   "execution_count": 51,
   "metadata": {},
   "outputs": [
    {
     "data": {
      "text/plain": [
       "(221367, 6)"
      ]
     },
     "execution_count": 51,
     "metadata": {},
     "output_type": "execute_result"
    }
   ],
   "source": [
    "combnotmodify.shape"
   ]
  },
  {
   "cell_type": "code",
   "execution_count": 22,
   "metadata": {
    "scrolled": true
   },
   "outputs": [
    {
     "data": {
      "text/html": [
       "<div>\n",
       "<style scoped>\n",
       "    .dataframe tbody tr th:only-of-type {\n",
       "        vertical-align: middle;\n",
       "    }\n",
       "\n",
       "    .dataframe tbody tr th {\n",
       "        vertical-align: top;\n",
       "    }\n",
       "\n",
       "    .dataframe thead th {\n",
       "        text-align: right;\n",
       "    }\n",
       "</style>\n",
       "<table border=\"1\" class=\"dataframe\">\n",
       "  <thead>\n",
       "    <tr style=\"text-align: right;\">\n",
       "      <th></th>\n",
       "      <th>context</th>\n",
       "      <th>user_id</th>\n",
       "      <th>film_id</th>\n",
       "      <th>rating</th>\n",
       "      <th>old_id</th>\n",
       "    </tr>\n",
       "  </thead>\n",
       "  <tbody>\n",
       "    <tr>\n",
       "      <th>0</th>\n",
       "      <td>-0.029506</td>\n",
       "      <td>1.0</td>\n",
       "      <td>1889.0</td>\n",
       "      <td>0.92</td>\n",
       "      <td>1.800029e+09</td>\n",
       "    </tr>\n",
       "    <tr>\n",
       "      <th>1</th>\n",
       "      <td>-0.035127</td>\n",
       "      <td>1.0</td>\n",
       "      <td>1.0</td>\n",
       "      <td>0.58</td>\n",
       "      <td>1.804857e+09</td>\n",
       "    </tr>\n",
       "    <tr>\n",
       "      <th>2</th>\n",
       "      <td>-0.031490</td>\n",
       "      <td>1.0</td>\n",
       "      <td>2.0</td>\n",
       "      <td>1.00</td>\n",
       "      <td>1.800031e+09</td>\n",
       "    </tr>\n",
       "    <tr>\n",
       "      <th>3</th>\n",
       "      <td>-0.030762</td>\n",
       "      <td>1.0</td>\n",
       "      <td>3.0</td>\n",
       "      <td>0.83</td>\n",
       "      <td>1.800019e+09</td>\n",
       "    </tr>\n",
       "    <tr>\n",
       "      <th>4</th>\n",
       "      <td>-0.020182</td>\n",
       "      <td>1.0</td>\n",
       "      <td>4.0</td>\n",
       "      <td>0.67</td>\n",
       "      <td>1.800256e+09</td>\n",
       "    </tr>\n",
       "  </tbody>\n",
       "</table>\n",
       "</div>"
      ],
      "text/plain": [
       "    context  user_id  film_id  rating        old_id\n",
       "0 -0.029506      1.0   1889.0    0.92  1.800029e+09\n",
       "1 -0.035127      1.0      1.0    0.58  1.804857e+09\n",
       "2 -0.031490      1.0      2.0    1.00  1.800031e+09\n",
       "3 -0.030762      1.0      3.0    0.83  1.800019e+09\n",
       "4 -0.020182      1.0      4.0    0.67  1.800256e+09"
      ]
     },
     "execution_count": 22,
     "metadata": {},
     "output_type": "execute_result"
    }
   ],
   "source": [
    "combnotmodify.head()"
   ]
  },
  {
   "cell_type": "code",
   "execution_count": 15,
   "metadata": {},
   "outputs": [],
   "source": [
    "combnotmodify = combnotmodify.drop(['bagofwords','old_id'],axis=1)"
   ]
  },
  {
   "cell_type": "code",
   "execution_count": 83,
   "metadata": {},
   "outputs": [
    {
     "data": {
      "text/plain": [
       "(188161, 3)"
      ]
     },
     "execution_count": 83,
     "metadata": {},
     "output_type": "execute_result"
    }
   ],
   "source": [
    "train.shape"
   ]
  },
  {
   "cell_type": "code",
   "execution_count": 77,
   "metadata": {},
   "outputs": [],
   "source": [
    "nfilm_id = len(ratings_file3.film_id.unique())\n",
    "nuser_id = len(ratings_file3.user_id.unique())"
   ]
  },
  {
   "cell_type": "code",
   "execution_count": 78,
   "metadata": {},
   "outputs": [],
   "source": [
    "#Experimenting with simpler, earlier form of the model\n",
    "input_films = tensorflow.keras.layers.Input(shape=[1])\n",
    "embed_films = tensorflow.keras.layers.Embedding(nfilm_id + 1,10)(input_films)\n",
    "films_out = tensorflow.keras.layers.Flatten()(embed_films)\n",
    "\n",
    "#user input network\n",
    "input_users = tensorflow.keras.layers.Input(shape=[1])\n",
    "embed_users = tensorflow.keras.layers.Embedding(nuser_id + 1,10)(input_users)\n",
    "users_out = tensorflow.keras.layers.Flatten()(embed_users)\n",
    "#concatenated film and user layers- alternative to calculating the dot product \n",
    "conc_layer = tensorflow.keras.layers.Concatenate()([films_out, users_out])\n",
    "x = tensorflow.keras.layers.Dense(128, activation='relu')(conc_layer)\n",
    "x_out = x = tensorflow.keras.layers.Dense(1, activation='relu')(x)\n",
    "model12 = tensorflow.keras.Model([input_films, input_users], x_out)"
   ]
  },
  {
   "cell_type": "code",
   "execution_count": 28,
   "metadata": {},
   "outputs": [],
   "source": [
    "xtrains = train.drop(columns=['rating'], axis=1)\n",
    "xtests = test.drop(columns=['rating'], axis=1)"
   ]
  },
  {
   "cell_type": "code",
   "execution_count": 29,
   "metadata": {},
   "outputs": [],
   "source": [
    "xtrains = xtrains.reset_index(drop=True)\n",
    "xtests = xtests.reset_index(drop=True)"
   ]
  },
  {
   "cell_type": "code",
   "execution_count": null,
   "metadata": {},
   "outputs": [],
   "source": [
    "xtrains.to_csv('xtrains.csv', index=False)\n",
    "xtests.to_csv('xtests.csv', index=False)\n",
    "ytrains.to_csv('ytrains.csv', index=False)\n",
    "ytests.to_csv('ytests.csv', index=False)"
   ]
  },
  {
   "cell_type": "code",
   "execution_count": 30,
   "metadata": {},
   "outputs": [],
   "source": [
    "ytrains = train.drop(columns=['user_id', 'film_id'], axis=1).reset_index(drop=True)\n",
    "ytests = test.drop(columns=['user_id', 'film_id'], axis=1).reset_index(drop=True)"
   ]
  },
  {
   "cell_type": "code",
   "execution_count": 79,
   "metadata": {},
   "outputs": [
    {
     "name": "stdout",
     "output_type": "stream",
     "text": [
      "Model: \"model_4\"\n",
      "__________________________________________________________________________________________________\n",
      "Layer (type)                    Output Shape         Param #     Connected to                     \n",
      "==================================================================================================\n",
      "input_9 (InputLayer)            [(None, 1)]          0                                            \n",
      "__________________________________________________________________________________________________\n",
      "input_10 (InputLayer)           [(None, 1)]          0                                            \n",
      "__________________________________________________________________________________________________\n",
      "embedding_8 (Embedding)         (None, 1, 10)        119160      input_9[0][0]                    \n",
      "__________________________________________________________________________________________________\n",
      "embedding_9 (Embedding)         (None, 1, 10)        76430       input_10[0][0]                   \n",
      "__________________________________________________________________________________________________\n",
      "flatten_8 (Flatten)             (None, 10)           0           embedding_8[0][0]                \n",
      "__________________________________________________________________________________________________\n",
      "flatten_9 (Flatten)             (None, 10)           0           embedding_9[0][0]                \n",
      "__________________________________________________________________________________________________\n",
      "concatenate_4 (Concatenate)     (None, 20)           0           flatten_8[0][0]                  \n",
      "                                                                 flatten_9[0][0]                  \n",
      "__________________________________________________________________________________________________\n",
      "dense_8 (Dense)                 (None, 128)          2688        concatenate_4[0][0]              \n",
      "__________________________________________________________________________________________________\n",
      "dense_9 (Dense)                 (None, 1)            129         dense_8[0][0]                    \n",
      "==================================================================================================\n",
      "Total params: 198,407\n",
      "Trainable params: 198,407\n",
      "Non-trainable params: 0\n",
      "__________________________________________________________________________________________________\n"
     ]
    }
   ],
   "source": [
    "opt = tensorflow.keras.optimizers.Adam(learning_rate=0.001)\n",
    "model12.compile(optimizer=opt, loss='mean_squared_error')\n",
    "model12.summary()"
   ]
  },
  {
   "cell_type": "code",
   "execution_count": 24,
   "metadata": {},
   "outputs": [],
   "source": [
    "#Setting up the early stopping to observed the loss function and stop the epochs\n",
    "# early after it has deteriorated too many times\n",
    "from tensorflow.keras.callbacks import EarlyStopping\n",
    "callbacks = [\n",
    "    EarlyStopping(monitor='loss', patience=2, verbose=1),\n",
    "]\n"
   ]
  },
  {
   "cell_type": "code",
   "execution_count": 201,
   "metadata": {
    "scrolled": true
   },
   "outputs": [
    {
     "name": "stdout",
     "output_type": "stream",
     "text": [
      "Epoch 1/20\n",
      "37633/37633 [==============================] - 602s 16ms/step - loss: 59960.6602 - mae: 41.4493 - mape: 3217259008.0000 - val_loss: 0.0912 - val_mae: 0.2346 - val_mape: 57984924.0000\n",
      "Epoch 2/20\n",
      "37633/37633 [==============================] - 595s 16ms/step - loss: 0.0944 - mae: 0.2408 - mape: 56117868.0000 - val_loss: 0.0913 - val_mae: 0.2437 - val_mape: 54602328.0000\n",
      "Epoch 3/20\n",
      "37633/37633 [==============================] - 594s 16ms/step - loss: 0.0935 - mae: 0.2401 - mape: 56078908.0000 - val_loss: 0.0916 - val_mae: 0.2322 - val_mape: 58763992.0000\n",
      "Epoch 4/20\n",
      "37633/37633 [==============================] - 594s 16ms/step - loss: 0.0938 - mae: 0.2405 - mape: 56072364.0000 - val_loss: 0.0907 - val_mae: 0.2381 - val_mape: 56635184.0000\n",
      "Epoch 5/20\n",
      "23826/37633 [=================>............] - ETA: 3:29 - loss: 0.0936 - mae: 0.2401 - mape: 55782992.0000"
     ]
    },
    {
     "ename": "KeyboardInterrupt",
     "evalue": "",
     "output_type": "error",
     "traceback": [
      "\u001b[0;31m---------------------------------------------------------------------------\u001b[0m",
      "\u001b[0;31mKeyboardInterrupt\u001b[0m                         Traceback (most recent call last)",
      "\u001b[0;32m<ipython-input-201-e691af7c488a>\u001b[0m in \u001b[0;36m<module>\u001b[0;34m\u001b[0m\n\u001b[1;32m      9\u001b[0m \u001b[0mmodel13\u001b[0m\u001b[0;34m.\u001b[0m\u001b[0mcompile\u001b[0m\u001b[0;34m(\u001b[0m\u001b[0moptimizer\u001b[0m\u001b[0;34m=\u001b[0m\u001b[0mopt\u001b[0m\u001b[0;34m,\u001b[0m \u001b[0mloss\u001b[0m\u001b[0;34m=\u001b[0m\u001b[0;34m[\u001b[0m\u001b[0;34m'mse'\u001b[0m\u001b[0;34m]\u001b[0m\u001b[0;34m,\u001b[0m \u001b[0mmetrics\u001b[0m\u001b[0;34m=\u001b[0m\u001b[0;34m[\u001b[0m\u001b[0;34m'mae'\u001b[0m\u001b[0;34m,\u001b[0m \u001b[0;34m'mape'\u001b[0m\u001b[0;34m]\u001b[0m\u001b[0;34m)\u001b[0m\u001b[0;34m\u001b[0m\u001b[0;34m\u001b[0m\u001b[0m\n\u001b[1;32m     10\u001b[0m \u001b[0;34m\u001b[0m\u001b[0m\n\u001b[0;32m---> 11\u001b[0;31m \u001b[0mhist13\u001b[0m \u001b[0;34m=\u001b[0m \u001b[0mmodel13\u001b[0m\u001b[0;34m.\u001b[0m\u001b[0mfit\u001b[0m\u001b[0;34m(\u001b[0m\u001b[0mnp\u001b[0m\u001b[0;34m.\u001b[0m\u001b[0marray\u001b[0m\u001b[0;34m(\u001b[0m\u001b[0mxtrains\u001b[0m\u001b[0;34m)\u001b[0m\u001b[0;34m,\u001b[0m \u001b[0mnp\u001b[0m\u001b[0;34m.\u001b[0m\u001b[0marray\u001b[0m\u001b[0;34m(\u001b[0m\u001b[0mytrains\u001b[0m\u001b[0;34m)\u001b[0m\u001b[0;34m,\u001b[0m \u001b[0mbatch_size\u001b[0m\u001b[0;34m=\u001b[0m\u001b[0;36m5\u001b[0m\u001b[0;34m,\u001b[0m \u001b[0mepochs\u001b[0m\u001b[0;34m=\u001b[0m\u001b[0;36m20\u001b[0m\u001b[0;34m,\u001b[0m \u001b[0mcallbacks\u001b[0m\u001b[0;34m=\u001b[0m\u001b[0mcallbacks\u001b[0m\u001b[0;34m,\u001b[0m\u001b[0mvalidation_data\u001b[0m\u001b[0;34m=\u001b[0m\u001b[0;34m(\u001b[0m\u001b[0mnp\u001b[0m\u001b[0;34m.\u001b[0m\u001b[0marray\u001b[0m\u001b[0;34m(\u001b[0m\u001b[0mxtests\u001b[0m\u001b[0;34m)\u001b[0m\u001b[0;34m,\u001b[0m\u001b[0mnp\u001b[0m\u001b[0;34m.\u001b[0m\u001b[0marray\u001b[0m\u001b[0;34m(\u001b[0m\u001b[0mytests\u001b[0m\u001b[0;34m)\u001b[0m\u001b[0;34m)\u001b[0m\u001b[0;34m)\u001b[0m\u001b[0;34m\u001b[0m\u001b[0;34m\u001b[0m\u001b[0m\n\u001b[0m",
      "\u001b[0;32m/opt/conda/lib/python3.8/site-packages/keras/engine/training.py\u001b[0m in \u001b[0;36mfit\u001b[0;34m(self, x, y, batch_size, epochs, verbose, callbacks, validation_split, validation_data, shuffle, class_weight, sample_weight, initial_epoch, steps_per_epoch, validation_steps, validation_batch_size, validation_freq, max_queue_size, workers, use_multiprocessing)\u001b[0m\n\u001b[1;32m   1187\u001b[0m               \u001b[0mlogs\u001b[0m \u001b[0;34m=\u001b[0m \u001b[0mtmp_logs\u001b[0m  \u001b[0;31m# No error, now safe to assign to logs.\u001b[0m\u001b[0;34m\u001b[0m\u001b[0;34m\u001b[0m\u001b[0m\n\u001b[1;32m   1188\u001b[0m               \u001b[0mend_step\u001b[0m \u001b[0;34m=\u001b[0m \u001b[0mstep\u001b[0m \u001b[0;34m+\u001b[0m \u001b[0mdata_handler\u001b[0m\u001b[0;34m.\u001b[0m\u001b[0mstep_increment\u001b[0m\u001b[0;34m\u001b[0m\u001b[0;34m\u001b[0m\u001b[0m\n\u001b[0;32m-> 1189\u001b[0;31m               \u001b[0mcallbacks\u001b[0m\u001b[0;34m.\u001b[0m\u001b[0mon_train_batch_end\u001b[0m\u001b[0;34m(\u001b[0m\u001b[0mend_step\u001b[0m\u001b[0;34m,\u001b[0m \u001b[0mlogs\u001b[0m\u001b[0;34m)\u001b[0m\u001b[0;34m\u001b[0m\u001b[0;34m\u001b[0m\u001b[0m\n\u001b[0m\u001b[1;32m   1190\u001b[0m               \u001b[0;32mif\u001b[0m \u001b[0mself\u001b[0m\u001b[0;34m.\u001b[0m\u001b[0mstop_training\u001b[0m\u001b[0;34m:\u001b[0m\u001b[0;34m\u001b[0m\u001b[0;34m\u001b[0m\u001b[0m\n\u001b[1;32m   1191\u001b[0m                 \u001b[0;32mbreak\u001b[0m\u001b[0;34m\u001b[0m\u001b[0;34m\u001b[0m\u001b[0m\n",
      "\u001b[0;32m/opt/conda/lib/python3.8/site-packages/keras/callbacks.py\u001b[0m in \u001b[0;36mon_train_batch_end\u001b[0;34m(self, batch, logs)\u001b[0m\n\u001b[1;32m    433\u001b[0m     \"\"\"\n\u001b[1;32m    434\u001b[0m     \u001b[0;32mif\u001b[0m \u001b[0mself\u001b[0m\u001b[0;34m.\u001b[0m\u001b[0m_should_call_train_batch_hooks\u001b[0m\u001b[0;34m:\u001b[0m\u001b[0;34m\u001b[0m\u001b[0;34m\u001b[0m\u001b[0m\n\u001b[0;32m--> 435\u001b[0;31m       \u001b[0mself\u001b[0m\u001b[0;34m.\u001b[0m\u001b[0m_call_batch_hook\u001b[0m\u001b[0;34m(\u001b[0m\u001b[0mModeKeys\u001b[0m\u001b[0;34m.\u001b[0m\u001b[0mTRAIN\u001b[0m\u001b[0;34m,\u001b[0m \u001b[0;34m'end'\u001b[0m\u001b[0;34m,\u001b[0m \u001b[0mbatch\u001b[0m\u001b[0;34m,\u001b[0m \u001b[0mlogs\u001b[0m\u001b[0;34m=\u001b[0m\u001b[0mlogs\u001b[0m\u001b[0;34m)\u001b[0m\u001b[0;34m\u001b[0m\u001b[0;34m\u001b[0m\u001b[0m\n\u001b[0m\u001b[1;32m    436\u001b[0m \u001b[0;34m\u001b[0m\u001b[0m\n\u001b[1;32m    437\u001b[0m   \u001b[0;32mdef\u001b[0m \u001b[0mon_test_batch_begin\u001b[0m\u001b[0;34m(\u001b[0m\u001b[0mself\u001b[0m\u001b[0;34m,\u001b[0m \u001b[0mbatch\u001b[0m\u001b[0;34m,\u001b[0m \u001b[0mlogs\u001b[0m\u001b[0;34m=\u001b[0m\u001b[0;32mNone\u001b[0m\u001b[0;34m)\u001b[0m\u001b[0;34m:\u001b[0m\u001b[0;34m\u001b[0m\u001b[0;34m\u001b[0m\u001b[0m\n",
      "\u001b[0;32m/opt/conda/lib/python3.8/site-packages/keras/callbacks.py\u001b[0m in \u001b[0;36m_call_batch_hook\u001b[0;34m(self, mode, hook, batch, logs)\u001b[0m\n\u001b[1;32m    293\u001b[0m       \u001b[0mself\u001b[0m\u001b[0;34m.\u001b[0m\u001b[0m_call_batch_begin_hook\u001b[0m\u001b[0;34m(\u001b[0m\u001b[0mmode\u001b[0m\u001b[0;34m,\u001b[0m \u001b[0mbatch\u001b[0m\u001b[0;34m,\u001b[0m \u001b[0mlogs\u001b[0m\u001b[0;34m)\u001b[0m\u001b[0;34m\u001b[0m\u001b[0;34m\u001b[0m\u001b[0m\n\u001b[1;32m    294\u001b[0m     \u001b[0;32melif\u001b[0m \u001b[0mhook\u001b[0m \u001b[0;34m==\u001b[0m \u001b[0;34m'end'\u001b[0m\u001b[0;34m:\u001b[0m\u001b[0;34m\u001b[0m\u001b[0;34m\u001b[0m\u001b[0m\n\u001b[0;32m--> 295\u001b[0;31m       \u001b[0mself\u001b[0m\u001b[0;34m.\u001b[0m\u001b[0m_call_batch_end_hook\u001b[0m\u001b[0;34m(\u001b[0m\u001b[0mmode\u001b[0m\u001b[0;34m,\u001b[0m \u001b[0mbatch\u001b[0m\u001b[0;34m,\u001b[0m \u001b[0mlogs\u001b[0m\u001b[0;34m)\u001b[0m\u001b[0;34m\u001b[0m\u001b[0;34m\u001b[0m\u001b[0m\n\u001b[0m\u001b[1;32m    296\u001b[0m     \u001b[0;32melse\u001b[0m\u001b[0;34m:\u001b[0m\u001b[0;34m\u001b[0m\u001b[0;34m\u001b[0m\u001b[0m\n\u001b[1;32m    297\u001b[0m       \u001b[0;32mraise\u001b[0m \u001b[0mValueError\u001b[0m\u001b[0;34m(\u001b[0m\u001b[0;34m'Unrecognized hook: {}'\u001b[0m\u001b[0;34m.\u001b[0m\u001b[0mformat\u001b[0m\u001b[0;34m(\u001b[0m\u001b[0mhook\u001b[0m\u001b[0;34m)\u001b[0m\u001b[0;34m)\u001b[0m\u001b[0;34m\u001b[0m\u001b[0;34m\u001b[0m\u001b[0m\n",
      "\u001b[0;32m/opt/conda/lib/python3.8/site-packages/keras/callbacks.py\u001b[0m in \u001b[0;36m_call_batch_end_hook\u001b[0;34m(self, mode, batch, logs)\u001b[0m\n\u001b[1;32m    313\u001b[0m       \u001b[0mself\u001b[0m\u001b[0;34m.\u001b[0m\u001b[0m_batch_times\u001b[0m\u001b[0;34m.\u001b[0m\u001b[0mappend\u001b[0m\u001b[0;34m(\u001b[0m\u001b[0mbatch_time\u001b[0m\u001b[0;34m)\u001b[0m\u001b[0;34m\u001b[0m\u001b[0;34m\u001b[0m\u001b[0m\n\u001b[1;32m    314\u001b[0m \u001b[0;34m\u001b[0m\u001b[0m\n\u001b[0;32m--> 315\u001b[0;31m     \u001b[0mself\u001b[0m\u001b[0;34m.\u001b[0m\u001b[0m_call_batch_hook_helper\u001b[0m\u001b[0;34m(\u001b[0m\u001b[0mhook_name\u001b[0m\u001b[0;34m,\u001b[0m \u001b[0mbatch\u001b[0m\u001b[0;34m,\u001b[0m \u001b[0mlogs\u001b[0m\u001b[0;34m)\u001b[0m\u001b[0;34m\u001b[0m\u001b[0;34m\u001b[0m\u001b[0m\n\u001b[0m\u001b[1;32m    316\u001b[0m \u001b[0;34m\u001b[0m\u001b[0m\n\u001b[1;32m    317\u001b[0m     \u001b[0;32mif\u001b[0m \u001b[0mlen\u001b[0m\u001b[0;34m(\u001b[0m\u001b[0mself\u001b[0m\u001b[0;34m.\u001b[0m\u001b[0m_batch_times\u001b[0m\u001b[0;34m)\u001b[0m \u001b[0;34m>=\u001b[0m \u001b[0mself\u001b[0m\u001b[0;34m.\u001b[0m\u001b[0m_num_batches_for_timing_check\u001b[0m\u001b[0;34m:\u001b[0m\u001b[0;34m\u001b[0m\u001b[0;34m\u001b[0m\u001b[0m\n",
      "\u001b[0;32m/opt/conda/lib/python3.8/site-packages/keras/callbacks.py\u001b[0m in \u001b[0;36m_call_batch_hook_helper\u001b[0;34m(self, hook_name, batch, logs)\u001b[0m\n\u001b[1;32m    351\u001b[0m     \u001b[0;32mfor\u001b[0m \u001b[0mcallback\u001b[0m \u001b[0;32min\u001b[0m \u001b[0mself\u001b[0m\u001b[0;34m.\u001b[0m\u001b[0mcallbacks\u001b[0m\u001b[0;34m:\u001b[0m\u001b[0;34m\u001b[0m\u001b[0;34m\u001b[0m\u001b[0m\n\u001b[1;32m    352\u001b[0m       \u001b[0mhook\u001b[0m \u001b[0;34m=\u001b[0m \u001b[0mgetattr\u001b[0m\u001b[0;34m(\u001b[0m\u001b[0mcallback\u001b[0m\u001b[0;34m,\u001b[0m \u001b[0mhook_name\u001b[0m\u001b[0;34m)\u001b[0m\u001b[0;34m\u001b[0m\u001b[0;34m\u001b[0m\u001b[0m\n\u001b[0;32m--> 353\u001b[0;31m       \u001b[0mhook\u001b[0m\u001b[0;34m(\u001b[0m\u001b[0mbatch\u001b[0m\u001b[0;34m,\u001b[0m \u001b[0mlogs\u001b[0m\u001b[0;34m)\u001b[0m\u001b[0;34m\u001b[0m\u001b[0;34m\u001b[0m\u001b[0m\n\u001b[0m\u001b[1;32m    354\u001b[0m \u001b[0;34m\u001b[0m\u001b[0m\n\u001b[1;32m    355\u001b[0m     \u001b[0;32mif\u001b[0m \u001b[0mself\u001b[0m\u001b[0;34m.\u001b[0m\u001b[0m_check_timing\u001b[0m\u001b[0;34m:\u001b[0m\u001b[0;34m\u001b[0m\u001b[0;34m\u001b[0m\u001b[0m\n",
      "\u001b[0;32m/opt/conda/lib/python3.8/site-packages/keras/callbacks.py\u001b[0m in \u001b[0;36mon_train_batch_end\u001b[0;34m(self, batch, logs)\u001b[0m\n\u001b[1;32m   1026\u001b[0m \u001b[0;34m\u001b[0m\u001b[0m\n\u001b[1;32m   1027\u001b[0m   \u001b[0;32mdef\u001b[0m \u001b[0mon_train_batch_end\u001b[0m\u001b[0;34m(\u001b[0m\u001b[0mself\u001b[0m\u001b[0;34m,\u001b[0m \u001b[0mbatch\u001b[0m\u001b[0;34m,\u001b[0m \u001b[0mlogs\u001b[0m\u001b[0;34m=\u001b[0m\u001b[0;32mNone\u001b[0m\u001b[0;34m)\u001b[0m\u001b[0;34m:\u001b[0m\u001b[0;34m\u001b[0m\u001b[0;34m\u001b[0m\u001b[0m\n\u001b[0;32m-> 1028\u001b[0;31m     \u001b[0mself\u001b[0m\u001b[0;34m.\u001b[0m\u001b[0m_batch_update_progbar\u001b[0m\u001b[0;34m(\u001b[0m\u001b[0mbatch\u001b[0m\u001b[0;34m,\u001b[0m \u001b[0mlogs\u001b[0m\u001b[0;34m)\u001b[0m\u001b[0;34m\u001b[0m\u001b[0;34m\u001b[0m\u001b[0m\n\u001b[0m\u001b[1;32m   1029\u001b[0m \u001b[0;34m\u001b[0m\u001b[0m\n\u001b[1;32m   1030\u001b[0m   \u001b[0;32mdef\u001b[0m \u001b[0mon_test_batch_end\u001b[0m\u001b[0;34m(\u001b[0m\u001b[0mself\u001b[0m\u001b[0;34m,\u001b[0m \u001b[0mbatch\u001b[0m\u001b[0;34m,\u001b[0m \u001b[0mlogs\u001b[0m\u001b[0;34m=\u001b[0m\u001b[0;32mNone\u001b[0m\u001b[0;34m)\u001b[0m\u001b[0;34m:\u001b[0m\u001b[0;34m\u001b[0m\u001b[0;34m\u001b[0m\u001b[0m\n",
      "\u001b[0;32m/opt/conda/lib/python3.8/site-packages/keras/callbacks.py\u001b[0m in \u001b[0;36m_batch_update_progbar\u001b[0;34m(self, batch, logs)\u001b[0m\n\u001b[1;32m   1099\u001b[0m       \u001b[0;31m# Only block async when verbose = 1.\u001b[0m\u001b[0;34m\u001b[0m\u001b[0;34m\u001b[0m\u001b[0;34m\u001b[0m\u001b[0m\n\u001b[1;32m   1100\u001b[0m       \u001b[0mlogs\u001b[0m \u001b[0;34m=\u001b[0m \u001b[0mtf_utils\u001b[0m\u001b[0;34m.\u001b[0m\u001b[0msync_to_numpy_or_python_type\u001b[0m\u001b[0;34m(\u001b[0m\u001b[0mlogs\u001b[0m\u001b[0;34m)\u001b[0m\u001b[0;34m\u001b[0m\u001b[0;34m\u001b[0m\u001b[0m\n\u001b[0;32m-> 1101\u001b[0;31m       \u001b[0mself\u001b[0m\u001b[0;34m.\u001b[0m\u001b[0mprogbar\u001b[0m\u001b[0;34m.\u001b[0m\u001b[0mupdate\u001b[0m\u001b[0;34m(\u001b[0m\u001b[0mself\u001b[0m\u001b[0;34m.\u001b[0m\u001b[0mseen\u001b[0m\u001b[0;34m,\u001b[0m \u001b[0mlist\u001b[0m\u001b[0;34m(\u001b[0m\u001b[0mlogs\u001b[0m\u001b[0;34m.\u001b[0m\u001b[0mitems\u001b[0m\u001b[0;34m(\u001b[0m\u001b[0;34m)\u001b[0m\u001b[0;34m)\u001b[0m\u001b[0;34m,\u001b[0m \u001b[0mfinalize\u001b[0m\u001b[0;34m=\u001b[0m\u001b[0;32mFalse\u001b[0m\u001b[0;34m)\u001b[0m\u001b[0;34m\u001b[0m\u001b[0;34m\u001b[0m\u001b[0m\n\u001b[0m\u001b[1;32m   1102\u001b[0m \u001b[0;34m\u001b[0m\u001b[0m\n\u001b[1;32m   1103\u001b[0m   \u001b[0;32mdef\u001b[0m \u001b[0m_finalize_progbar\u001b[0m\u001b[0;34m(\u001b[0m\u001b[0mself\u001b[0m\u001b[0;34m,\u001b[0m \u001b[0mlogs\u001b[0m\u001b[0;34m,\u001b[0m \u001b[0mcounter\u001b[0m\u001b[0;34m)\u001b[0m\u001b[0;34m:\u001b[0m\u001b[0;34m\u001b[0m\u001b[0;34m\u001b[0m\u001b[0m\n",
      "\u001b[0;32m/opt/conda/lib/python3.8/site-packages/keras/utils/generic_utils.py\u001b[0m in \u001b[0;36mupdate\u001b[0;34m(self, current, values, finalize)\u001b[0m\n\u001b[1;32m    971\u001b[0m \u001b[0;34m\u001b[0m\u001b[0m\n\u001b[1;32m    972\u001b[0m       \u001b[0msys\u001b[0m\u001b[0;34m.\u001b[0m\u001b[0mstdout\u001b[0m\u001b[0;34m.\u001b[0m\u001b[0mwrite\u001b[0m\u001b[0;34m(\u001b[0m\u001b[0minfo\u001b[0m\u001b[0;34m)\u001b[0m\u001b[0;34m\u001b[0m\u001b[0;34m\u001b[0m\u001b[0m\n\u001b[0;32m--> 973\u001b[0;31m       \u001b[0msys\u001b[0m\u001b[0;34m.\u001b[0m\u001b[0mstdout\u001b[0m\u001b[0;34m.\u001b[0m\u001b[0mflush\u001b[0m\u001b[0;34m(\u001b[0m\u001b[0;34m)\u001b[0m\u001b[0;34m\u001b[0m\u001b[0;34m\u001b[0m\u001b[0m\n\u001b[0m\u001b[1;32m    974\u001b[0m \u001b[0;34m\u001b[0m\u001b[0m\n\u001b[1;32m    975\u001b[0m     \u001b[0;32melif\u001b[0m \u001b[0mself\u001b[0m\u001b[0;34m.\u001b[0m\u001b[0mverbose\u001b[0m \u001b[0;34m==\u001b[0m \u001b[0;36m2\u001b[0m\u001b[0;34m:\u001b[0m\u001b[0;34m\u001b[0m\u001b[0;34m\u001b[0m\u001b[0m\n",
      "\u001b[0;32m/opt/conda/lib/python3.8/site-packages/ipykernel/iostream.py\u001b[0m in \u001b[0;36mflush\u001b[0;34m(self)\u001b[0m\n\u001b[1;32m    350\u001b[0m                 \u001b[0mself\u001b[0m\u001b[0;34m.\u001b[0m\u001b[0mpub_thread\u001b[0m\u001b[0;34m.\u001b[0m\u001b[0mschedule\u001b[0m\u001b[0;34m(\u001b[0m\u001b[0mevt\u001b[0m\u001b[0;34m.\u001b[0m\u001b[0mset\u001b[0m\u001b[0;34m)\u001b[0m\u001b[0;34m\u001b[0m\u001b[0;34m\u001b[0m\u001b[0m\n\u001b[1;32m    351\u001b[0m                 \u001b[0;31m# and give a timeout to avoid\u001b[0m\u001b[0;34m\u001b[0m\u001b[0;34m\u001b[0m\u001b[0;34m\u001b[0m\u001b[0m\n\u001b[0;32m--> 352\u001b[0;31m                 \u001b[0;32mif\u001b[0m \u001b[0;32mnot\u001b[0m \u001b[0mevt\u001b[0m\u001b[0;34m.\u001b[0m\u001b[0mwait\u001b[0m\u001b[0;34m(\u001b[0m\u001b[0mself\u001b[0m\u001b[0;34m.\u001b[0m\u001b[0mflush_timeout\u001b[0m\u001b[0;34m)\u001b[0m\u001b[0;34m:\u001b[0m\u001b[0;34m\u001b[0m\u001b[0;34m\u001b[0m\u001b[0m\n\u001b[0m\u001b[1;32m    353\u001b[0m                     \u001b[0;31m# write directly to __stderr__ instead of warning because\u001b[0m\u001b[0;34m\u001b[0m\u001b[0;34m\u001b[0m\u001b[0;34m\u001b[0m\u001b[0m\n\u001b[1;32m    354\u001b[0m                     \u001b[0;31m# if this is happening sys.stderr may be the problem.\u001b[0m\u001b[0;34m\u001b[0m\u001b[0;34m\u001b[0m\u001b[0;34m\u001b[0m\u001b[0m\n",
      "\u001b[0;32m/opt/conda/lib/python3.8/threading.py\u001b[0m in \u001b[0;36mwait\u001b[0;34m(self, timeout)\u001b[0m\n\u001b[1;32m    556\u001b[0m             \u001b[0msignaled\u001b[0m \u001b[0;34m=\u001b[0m \u001b[0mself\u001b[0m\u001b[0;34m.\u001b[0m\u001b[0m_flag\u001b[0m\u001b[0;34m\u001b[0m\u001b[0;34m\u001b[0m\u001b[0m\n\u001b[1;32m    557\u001b[0m             \u001b[0;32mif\u001b[0m \u001b[0;32mnot\u001b[0m \u001b[0msignaled\u001b[0m\u001b[0;34m:\u001b[0m\u001b[0;34m\u001b[0m\u001b[0;34m\u001b[0m\u001b[0m\n\u001b[0;32m--> 558\u001b[0;31m                 \u001b[0msignaled\u001b[0m \u001b[0;34m=\u001b[0m \u001b[0mself\u001b[0m\u001b[0;34m.\u001b[0m\u001b[0m_cond\u001b[0m\u001b[0;34m.\u001b[0m\u001b[0mwait\u001b[0m\u001b[0;34m(\u001b[0m\u001b[0mtimeout\u001b[0m\u001b[0;34m)\u001b[0m\u001b[0;34m\u001b[0m\u001b[0;34m\u001b[0m\u001b[0m\n\u001b[0m\u001b[1;32m    559\u001b[0m             \u001b[0;32mreturn\u001b[0m \u001b[0msignaled\u001b[0m\u001b[0;34m\u001b[0m\u001b[0;34m\u001b[0m\u001b[0m\n\u001b[1;32m    560\u001b[0m \u001b[0;34m\u001b[0m\u001b[0m\n",
      "\u001b[0;32m/opt/conda/lib/python3.8/threading.py\u001b[0m in \u001b[0;36mwait\u001b[0;34m(self, timeout)\u001b[0m\n\u001b[1;32m    304\u001b[0m             \u001b[0;32melse\u001b[0m\u001b[0;34m:\u001b[0m\u001b[0;34m\u001b[0m\u001b[0;34m\u001b[0m\u001b[0m\n\u001b[1;32m    305\u001b[0m                 \u001b[0;32mif\u001b[0m \u001b[0mtimeout\u001b[0m \u001b[0;34m>\u001b[0m \u001b[0;36m0\u001b[0m\u001b[0;34m:\u001b[0m\u001b[0;34m\u001b[0m\u001b[0;34m\u001b[0m\u001b[0m\n\u001b[0;32m--> 306\u001b[0;31m                     \u001b[0mgotit\u001b[0m \u001b[0;34m=\u001b[0m \u001b[0mwaiter\u001b[0m\u001b[0;34m.\u001b[0m\u001b[0macquire\u001b[0m\u001b[0;34m(\u001b[0m\u001b[0;32mTrue\u001b[0m\u001b[0;34m,\u001b[0m \u001b[0mtimeout\u001b[0m\u001b[0;34m)\u001b[0m\u001b[0;34m\u001b[0m\u001b[0;34m\u001b[0m\u001b[0m\n\u001b[0m\u001b[1;32m    307\u001b[0m                 \u001b[0;32melse\u001b[0m\u001b[0;34m:\u001b[0m\u001b[0;34m\u001b[0m\u001b[0;34m\u001b[0m\u001b[0m\n\u001b[1;32m    308\u001b[0m                     \u001b[0mgotit\u001b[0m \u001b[0;34m=\u001b[0m \u001b[0mwaiter\u001b[0m\u001b[0;34m.\u001b[0m\u001b[0macquire\u001b[0m\u001b[0;34m(\u001b[0m\u001b[0;32mFalse\u001b[0m\u001b[0;34m)\u001b[0m\u001b[0;34m\u001b[0m\u001b[0;34m\u001b[0m\u001b[0m\n",
      "\u001b[0;31mKeyboardInterrupt\u001b[0m: "
     ]
    }
   ],
   "source": [
    "#Earlier model\n",
    "\n",
    "model13 = tensorflow.keras.Sequential([\n",
    "    tensorflow.keras.layers.Dense(10, activation='leaky_relu', name='layer1'),\n",
    "    tensorflow.keras.layers.Dropout(rate=0.6),\n",
    "    tensorflow.keras.layers.Dense(50, activation='leaky_relu',name='layer2'),\n",
    "    tensorflow.keras.layers.Dropout(rate=0.6),\n",
    "    tensorflow.keras.layers.Dense(1,name='layer3')\n",
    "  ])\n",
    "opt = tensorflow.keras.optimizers.Adam(learning_rate=0.001)\n",
    "model13.compile(optimizer=opt, loss=['mse'], metrics=['mae', 'mape', 'rmse'])\n",
    "\n",
    "hist13 = model13.fit(np.array(xtrains), np.array(ytrains), batch_size=5, epochs=20, callbacks=callbacks,validation_data=(np.array(xtests),np.array(ytests)))"
   ]
  },
  {
   "cell_type": "code",
   "execution_count": 17,
   "metadata": {},
   "outputs": [
    {
     "name": "stdout",
     "output_type": "stream",
     "text": [
      "949/949 [==============================] - 7s 7ms/step - loss: 0.2252 - mean_absolute_error: 0.2252 - mean_squared_error: 0.0962 - root_mean_squared_error: 0.3102\n",
      "[0.22515247762203217, 0.22515247762203217, 0.09623206406831741, 0.3102129399776459]\n"
     ]
    }
   ],
   "source": [
    "#Evaluating an earlier model\n",
    "result = model8.evaluate([x_test.values],y_test.values, verbose=True)\n",
    "print(result)"
   ]
  },
  {
   "cell_type": "code",
   "execution_count": 107,
   "metadata": {
    "scrolled": false
   },
   "outputs": [
    {
     "name": "stderr",
     "output_type": "stream",
     "text": [
      "WARNING:absl:Function `_wrapped_model` contains input name(s) User-Input, Movie-Input with unsupported characters which will be renamed to user_input, movie_input in the SavedModel.\n"
     ]
    },
    {
     "name": "stdout",
     "output_type": "stream",
     "text": [
      "INFO:tensorflow:Assets written to: hybridmodel9/assets\n"
     ]
    },
    {
     "name": "stderr",
     "output_type": "stream",
     "text": [
      "INFO:tensorflow:Assets written to: hybridmodel9/assets\n"
     ]
    }
   ],
   "source": [
    "#Saving an earlier model to retrieve later\n",
    "tf.keras.models.save_model(model9, 'hybridmodel9')"
   ]
  },
  {
   "cell_type": "code",
   "execution_count": 25,
   "metadata": {},
   "outputs": [],
   "source": [
    "#Hybrid recommendation model using Tensorflow. Create three embeddings using user_id, film_id\n",
    "#and contextual information and films. There three sets of two dense (fully-connected) layers.\n",
    "#The dot product is calculated between the film and meta data vectors, and between the film and user vectors.\n",
    "#The dot product is then calculated between these two results. The model learns to predict the\n",
    "#ratings using latent relationship between user ids, film ids and metadata.\n",
    "\n",
    "user_input = Input(shape=[1], name=\"User-Input\")\n",
    "user_embedding = Embedding(len(combnotmodify.user_id.unique())+1, 5, name=\"User-Embedding\")(user_input)\n",
    "user_vec = Flatten(name=\"Flatten-users\")(user_embedding)\n",
    "user1 = Dense(100, name='uDense1')(user_vec)\n",
    "user1 = Dropout(0.4)(user1)\n",
    "user2 = Dense(100, name='uDense2')(user1)\n",
    "\n",
    "movie_input = Input(shape=[1], name=\"Movie-Input\")\n",
    "movie_embedding = Embedding(len(combnotmodify.film_id.unique())+1, 5, name=\"Movie-Embedding\")(movie_input)\n",
    "movie_vec = Flatten(name=\"Flatten-movies\")(movie_embedding)\n",
    "movie1 = Dense(100, name='mDense1')(movie_vec)\n",
    "movie1 = Dropout(0.4)(movie1)\n",
    "movie2 = Dense(100, name='mDense2')(movie1)\n",
    "\n",
    "md_input = Input(shape=[1], name=\"md-Input\")\n",
    "md_embedding = Embedding(len(combnotmodify.context.unique())+1, 5, name=\"Md-Embedding\")(md_input)\n",
    "md_vec = Flatten(name=\"Flatten-md\")(md_embedding)\n",
    "md1 = Dense(100, name='mdDense1')(md_vec)\n",
    "md1 = Dropout(0.4)(md1)\n",
    "md2 = Dense(100, name='mdDense2')(md1)\n",
    "\n",
    "prod1 = Dot(name='Dot-Product1', axes=1)([md2, movie2])\n",
    "prod2 = Dot(name=\"Dot-Product2\", axes=1)([user2, movie2])\n",
    "prod = Dot(name='Dot-Product3', axes=1)([prod1, prod2])\n",
    "\n",
    "model14 = Model([user_input, movie_input, md_input], prod)\n",
    "model14.compile('adam', 'mse', metrics=['mae', 'mape', 'rmse'])\n",
    "\n",
    "movie_model = Model(movie_input,movie_vec)   "
   ]
  },
  {
   "cell_type": "code",
   "execution_count": null,
   "metadata": {},
   "outputs": [],
   "source": [
    "history14 = model14.fit([train.user_id, train.film_id, train.context], train.rating,batch_size=20,epochs=10,callbacks=callbacks,validation_data=([test.user_id, test.film_id, test.context],test.rating))"
   ]
  },
  {
   "cell_type": "code",
   "execution_count": 62,
   "metadata": {},
   "outputs": [],
   "source": [
    "#Savings the history for model14 as a pickle file to retrieve later\n",
    "import pickle\n",
    "f = open('history.pkl', 'wb')\n",
    "pickle.dump(history14.history, f)\n",
    "f.close()\n",
    "\n"
   ]
  },
  {
   "cell_type": "code",
   "execution_count": 56,
   "metadata": {},
   "outputs": [
    {
     "data": {
      "text/plain": [
       "array([[0.78313816],\n",
       "       [0.7139394 ],\n",
       "       [0.89655477],\n",
       "       ...,\n",
       "       [0.93717057],\n",
       "       [1.0568788 ],\n",
       "       [0.6114977 ]], dtype=float32)"
      ]
     },
     "execution_count": 56,
     "metadata": {},
     "output_type": "execute_result"
    }
   ],
   "source": [
    "#Making predictions using the hybrid model 14- each number is a prediction for \n",
    "#every possible combination of representative context, user_id and film_id\n",
    "predictions = model14.predict([train.user_id, train.film_id, train.context])\n",
    "predictions\n",
    "\n"
   ]
  },
  {
   "cell_type": "code",
   "execution_count": 74,
   "metadata": {},
   "outputs": [],
   "source": [
    "#Collaborative-filtering model using Tensorflow. Calculates the dot product between\n",
    "#the film and user embeddings.\n",
    "\n",
    "user_input = Input(shape=[1], name=\"User-Input\")\n",
    "user_embedding = Embedding(len(combnotmodify.user_id.unique())+1, 5, name=\"User-Embedding\")(user_input)\n",
    "user_vec = Flatten(name=\"Flatten-users\")(user_embedding)\n",
    "user1 = Dense(100, name='uDense1')(user_vec)\n",
    "user1 = Dropout(0.4)(user1)\n",
    "user2 = Dense(100, name='uDense2')(user1)\n",
    "\n",
    "movie_input = Input(shape=[1], name=\"Movie-Input\")\n",
    "movie_embedding = Embedding(len(combnotmodify.film_id.unique())+1, 5, name=\"Movie-Embedding\")(movie_input)\n",
    "movie_vec = Flatten(name=\"Flatten-movies\")(movie_embedding)\n",
    "movie1 = Dense(100, name='mDense1')(movie_vec)\n",
    "movie1 = Dropout(0.4)(movie1)\n",
    "movie2 = Dense(100, name='mDense2')(movie1)\n",
    "\n",
    "prod = Dot(name='Dot-Product1', axes=1)([user2, movie2])\n",
    "\n",
    "model15 = Model([user_input, movie_input], prod)\n",
    "model15.compile('adam', 'mse', metrics=['mae', 'mape'])\n",
    "\n",
    "movie_model = Model(movie_input,movie_vec) "
   ]
  },
  {
   "cell_type": "code",
   "execution_count": 75,
   "metadata": {},
   "outputs": [
    {
     "name": "stdout",
     "output_type": "stream",
     "text": [
      "Epoch 1/10\n",
      "9409/9409 [==============================] - 354s 38ms/step - loss: 0.0711 - mae: 0.2000 - mape: 44197208.0000 - val_loss: 0.0660 - val_mae: 0.2039 - val_mape: 39356556.0000\n",
      "Epoch 2/10\n",
      "9409/9409 [==============================] - 355s 38ms/step - loss: 0.0600 - mae: 0.1795 - mape: 38427748.0000 - val_loss: 0.0618 - val_mae: 0.1810 - val_mape: 36480492.0000\n",
      "Epoch 3/10\n",
      "9409/9409 [==============================] - 354s 38ms/step - loss: 0.0565 - mae: 0.1727 - mape: 36415468.0000 - val_loss: 0.0603 - val_mae: 0.1757 - val_mape: 37919632.0000\n",
      "Epoch 4/10\n",
      "9409/9409 [==============================] - 354s 38ms/step - loss: 0.0543 - mae: 0.1682 - mape: 34948236.0000 - val_loss: 0.0608 - val_mae: 0.1804 - val_mape: 37285952.0000\n",
      "Epoch 5/10\n",
      "9409/9409 [==============================] - 351s 37ms/step - loss: 0.0523 - mae: 0.1643 - mape: 33840868.0000 - val_loss: 0.0623 - val_mae: 0.1734 - val_mape: 38820680.0000\n",
      "Epoch 6/10\n",
      "9409/9409 [==============================] - 349s 37ms/step - loss: 0.0506 - mae: 0.1611 - mape: 32757014.0000 - val_loss: 0.0613 - val_mae: 0.1767 - val_mape: 35981144.0000\n",
      "Epoch 7/10\n",
      "9409/9409 [==============================] - 348s 37ms/step - loss: 0.0488 - mae: 0.1577 - mape: 31624486.0000 - val_loss: 0.0613 - val_mae: 0.1777 - val_mape: 36028344.0000\n",
      "Epoch 8/10\n",
      "9409/9409 [==============================] - 352s 37ms/step - loss: 0.0476 - mae: 0.1553 - mape: 30760790.0000 - val_loss: 0.0625 - val_mae: 0.1829 - val_mape: 35634296.0000\n",
      "Epoch 9/10\n",
      "9409/9409 [==============================] - 351s 37ms/step - loss: 0.0465 - mae: 0.1534 - mape: 30181338.0000 - val_loss: 0.0641 - val_mae: 0.1774 - val_mape: 35903528.0000\n",
      "Epoch 10/10\n",
      "9409/9409 [==============================] - 350s 37ms/step - loss: 0.0455 - mae: 0.1516 - mape: 29604362.0000 - val_loss: 0.0631 - val_mae: 0.1814 - val_mape: 36266272.0000\n"
     ]
    }
   ],
   "source": [
    "history15 = model15.fit([train.user_id, train.film_id], train.rating,batch_size=20,epochs=10,callbacks=callbacks,validation_data=([test.user_id, test.film_id],test.rating))"
   ]
  },
  {
   "cell_type": "code",
   "execution_count": null,
   "metadata": {},
   "outputs": [],
   "source": [
    "#x_train = r_train[[\"user_id\", \"film_id\"]]\n",
    "#y_train = r_train['rating']\n",
    "#x_val = r_test[['user_id', 'film_id']]\n",
    "#y_val = r_test['rating']\n"
   ]
  },
  {
   "cell_type": "code",
   "execution_count": 77,
   "metadata": {},
   "outputs": [
    {
     "data": {
      "image/png": "[encoded data removed]",
      "text/plain": [
       "<Figure size 432x288 with 1 Axes>"
      ]
     },
     "metadata": {
      "needs_background": "light"
     },
     "output_type": "display_data"
    }
   ],
   "source": [
    "plt.plot(history15.history[\"loss\"])\n",
    "plt.plot(history15.history[\"val_loss\"])\n",
    "plt.title(\"model loss\")\n",
    "plt.ylabel(\"loss\")\n",
    "plt.xlabel(\"epoch\")\n",
    "plt.legend([\"train\", \"test\"], loc=\"upper right\")\n",
    "plt.show()"
   ]
  },
  {
   "cell_type": "code",
   "execution_count": 80,
   "metadata": {},
   "outputs": [
    {
     "data": {
      "image/png": "[encoded data removed]",
      "text/plain": [
       "<Figure size 432x288 with 1 Axes>"
      ]
     },
     "metadata": {
      "needs_background": "light"
     },
     "output_type": "display_data"
    }
   ],
   "source": [
    "plt.plot(history15.history['mae'])\n",
    "plt.plot(history15.history['mae'])\n",
    "plt.title('model mean average error')\n",
    "plt.ylabel('mae')\n",
    "plt.xlabel('epoch')\n",
    "plt.legend(['train', 'val'], loc='upper right')\n",
    "plt.show()"
   ]
  },
  {
   "cell_type": "code",
   "execution_count": 81,
   "metadata": {},
   "outputs": [
    {
     "name": "stdout",
     "output_type": "stream",
     "text": [
      "Model: \"model_4\"\n",
      "__________________________________________________________________________________________________\n",
      "Layer (type)                    Output Shape         Param #     Connected to                     \n",
      "==================================================================================================\n",
      "User-Input (InputLayer)         [(None, 1)]          0                                            \n",
      "__________________________________________________________________________________________________\n",
      "Movie-Input (InputLayer)        [(None, 1)]          0                                            \n",
      "__________________________________________________________________________________________________\n",
      "User-Embedding (Embedding)      (None, 1, 5)         38215       User-Input[0][0]                 \n",
      "__________________________________________________________________________________________________\n",
      "Movie-Embedding (Embedding)     (None, 1, 5)         59580       Movie-Input[0][0]                \n",
      "__________________________________________________________________________________________________\n",
      "Flatten-users (Flatten)         (None, 5)            0           User-Embedding[0][0]             \n",
      "__________________________________________________________________________________________________\n",
      "Flatten-movies (Flatten)        (None, 5)            0           Movie-Embedding[0][0]            \n",
      "__________________________________________________________________________________________________\n",
      "uDense1 (Dense)                 (None, 100)          600         Flatten-users[0][0]              \n",
      "__________________________________________________________________________________________________\n",
      "mDense1 (Dense)                 (None, 100)          600         Flatten-movies[0][0]             \n",
      "__________________________________________________________________________________________________\n",
      "dropout_5 (Dropout)             (None, 100)          0           uDense1[0][0]                    \n",
      "__________________________________________________________________________________________________\n",
      "dropout_6 (Dropout)             (None, 100)          0           mDense1[0][0]                    \n",
      "__________________________________________________________________________________________________\n",
      "uDense2 (Dense)                 (None, 100)          10100       dropout_5[0][0]                  \n",
      "__________________________________________________________________________________________________\n",
      "mDense2 (Dense)                 (None, 100)          10100       dropout_6[0][0]                  \n",
      "__________________________________________________________________________________________________\n",
      "Dot-Product1 (Dot)              (None, 1)            0           uDense2[0][0]                    \n",
      "                                                                 mDense2[0][0]                    \n",
      "==================================================================================================\n",
      "Total params: 119,195\n",
      "Trainable params: 119,195\n",
      "Non-trainable params: 0\n",
      "__________________________________________________________________________________________________\n"
     ]
    }
   ],
   "source": [
    "model15.summary()"
   ]
  },
  {
   "cell_type": "code",
   "execution_count": 263,
   "metadata": {},
   "outputs": [],
   "source": [
    "#Previous data exploration\n",
    "unique_not_seen = not_watched.shape\n",
    "unique_films_user = movies_watched_by_user.shape\n",
    "total_unique_films = pd.unique(r_train.old_id.values).shape\n",
    "not_seen = [not_watched.iloc[i] for i in range(not_watched.shape[0])]"
   ]
  },
  {
   "cell_type": "code",
   "execution_count": 266,
   "metadata": {},
   "outputs": [
    {
     "data": {
      "text/plain": [
       "((11904,), (12,), (11916,))"
      ]
     },
     "execution_count": 266,
     "metadata": {},
     "output_type": "execute_result"
    }
   ],
   "source": [
    "unique_not_seen, unique_films_user, total_unique_films"
   ]
  },
  {
   "cell_type": "code",
   "execution_count": 334,
   "metadata": {},
   "outputs": [],
   "source": [
    "user_movie_array = np.hstack(\n",
    "    (user_encoder * len(movies_not_watched), movies_not_watched)\n",
    ")\n",
    "user_movie_array= user_movie_array[1:]\n",
    "user_movie_array= user_movie_array[1:]\n",
    "\n",
    "top_ratings_indices = ratings.argsort()[-10:][::-1]\n",
    "recommended_movie_ids = [\n",
    "    movie_encoded2movie.get(not_watched[x][0]) for x in top_ratings_indices\n",
    "]"
   ]
  },
  {
   "cell_type": "markdown",
   "metadata": {},
   "source": [
    "### Extracting contextual features, combining into bag of words column, applying TF-IDF and finally carrying out PCA to reduce dimensionality"
   ]
  },
  {
   "cell_type": "code",
   "execution_count": 88,
   "metadata": {},
   "outputs": [],
   "source": [
    "movie_desc = pd.read_csv('movie_desc.csv', header=None)"
   ]
  },
  {
   "cell_type": "code",
   "execution_count": 89,
   "metadata": {},
   "outputs": [],
   "source": [
    "movie_desc = movie_desc.rename(columns = {0:'movie_id',1:'title',2:'synopsis',3:'genre',4:'director',5:'director_id',6:'crew_type', 7: 'crew_member',8:'crew_id',9:'actor_name',10:'actor_id'})"
   ]
  },
  {
   "cell_type": "code",
   "execution_count": 90,
   "metadata": {},
   "outputs": [],
   "source": [
    "smd3 = movie_desc.copy()\n",
    "smd3 = smd3.drop(['director_id','crew_type', 'crew_member', 'crew_id', 'actor_id', 'title'], axis=1)\n",
    "\n",
    "smd3 = smd3.dropna()"
   ]
  },
  {
   "cell_type": "code",
   "execution_count": 44,
   "metadata": {
    "scrolled": true
   },
   "outputs": [],
   "source": [
    "#smd.to_csv('smd.csv', index=False)"
   ]
  },
  {
   "cell_type": "code",
   "execution_count": 91,
   "metadata": {},
   "outputs": [
    {
     "data": {
      "text/html": [
       "<div>\n",
       "<style scoped>\n",
       "    .dataframe tbody tr th:only-of-type {\n",
       "        vertical-align: middle;\n",
       "    }\n",
       "\n",
       "    .dataframe tbody tr th {\n",
       "        vertical-align: top;\n",
       "    }\n",
       "\n",
       "    .dataframe thead th {\n",
       "        text-align: right;\n",
       "    }\n",
       "</style>\n",
       "<table border=\"1\" class=\"dataframe\">\n",
       "  <thead>\n",
       "    <tr style=\"text-align: right;\">\n",
       "      <th></th>\n",
       "      <th>movie_id</th>\n",
       "      <th>synopsis</th>\n",
       "      <th>genre</th>\n",
       "      <th>director</th>\n",
       "      <th>actor_name</th>\n",
       "    </tr>\n",
       "  </thead>\n",
       "  <tbody>\n",
       "    <tr>\n",
       "      <th>8</th>\n",
       "      <td>1800013223</td>\n",
       "      <td>A delightful animated version of Mark Twain's ...</td>\n",
       "      <td>Action/Adventure</td>\n",
       "      <td>Richard Thorpe|Michael Curtiz|Jack B. Hively</td>\n",
       "      <td>Forrest Tucker|Mickey Rooney|Tony Randall|Eddi...</td>\n",
       "    </tr>\n",
       "    <tr>\n",
       "      <th>13</th>\n",
       "      <td>1800013563</td>\n",
       "      <td>An inspiring tale of a family's struggle to su...</td>\n",
       "      <td>Action/Adventure</td>\n",
       "      <td>Stewart Raffill</td>\n",
       "      <td>Robert Logan|Susan Damante Shaw|Ham Larsen</td>\n",
       "    </tr>\n",
       "    <tr>\n",
       "      <th>23</th>\n",
       "      <td>1800014841</td>\n",
       "      <td>Four unforgettable tales of terror from Hitchc...</td>\n",
       "      <td>Suspense/Horror</td>\n",
       "      <td>Alfred Hitchcock</td>\n",
       "      <td>Barbara Bel Geddes|Tom Ewell|John Williams|Joh...</td>\n",
       "    </tr>\n",
       "    <tr>\n",
       "      <th>24</th>\n",
       "      <td>1800015027</td>\n",
       "      <td>An all-star cast brings Lewis Carroll's wonder...</td>\n",
       "      <td>Kids/Family</td>\n",
       "      <td>Harry Harris|Alan Handley</td>\n",
       "      <td>Ricardo Montalban|Nanette Fabray|Robert Coote|...</td>\n",
       "    </tr>\n",
       "    <tr>\n",
       "      <th>25</th>\n",
       "      <td>1800015177</td>\n",
       "      <td>The denizens of a rural township are terrorize...</td>\n",
       "      <td>Science Fiction/Fantasy</td>\n",
       "      <td>Don Dohler</td>\n",
       "      <td>Don Leifert|Tom Griffith|Dick Dyszel</td>\n",
       "    </tr>\n",
       "  </tbody>\n",
       "</table>\n",
       "</div>"
      ],
      "text/plain": [
       "      movie_id                                           synopsis  \\\n",
       "8   1800013223  A delightful animated version of Mark Twain's ...   \n",
       "13  1800013563  An inspiring tale of a family's struggle to su...   \n",
       "23  1800014841  Four unforgettable tales of terror from Hitchc...   \n",
       "24  1800015027  An all-star cast brings Lewis Carroll's wonder...   \n",
       "25  1800015177  The denizens of a rural township are terrorize...   \n",
       "\n",
       "                      genre                                      director  \\\n",
       "8          Action/Adventure  Richard Thorpe|Michael Curtiz|Jack B. Hively   \n",
       "13         Action/Adventure                               Stewart Raffill   \n",
       "23          Suspense/Horror                              Alfred Hitchcock   \n",
       "24              Kids/Family                     Harry Harris|Alan Handley   \n",
       "25  Science Fiction/Fantasy                                    Don Dohler   \n",
       "\n",
       "                                           actor_name  \n",
       "8   Forrest Tucker|Mickey Rooney|Tony Randall|Eddi...  \n",
       "13         Robert Logan|Susan Damante Shaw|Ham Larsen  \n",
       "23  Barbara Bel Geddes|Tom Ewell|John Williams|Joh...  \n",
       "24  Ricardo Montalban|Nanette Fabray|Robert Coote|...  \n",
       "25               Don Leifert|Tom Griffith|Dick Dyszel  "
      ]
     },
     "execution_count": 91,
     "metadata": {},
     "output_type": "execute_result"
    }
   ],
   "source": [
    "smd3.head()"
   ]
  },
  {
   "cell_type": "code",
   "execution_count": 92,
   "metadata": {},
   "outputs": [],
   "source": [
    "#Removing punctuation before forming the bag of words column\n",
    "#and putting the data into a consistent format \n",
    "\n",
    "\n",
    "smd3['director'] = smd3['director'].map(lambda x: x.lower())\n",
    "smd3['synopsis'] = smd3['synopsis'].map(lambda x: x.lower())\n",
    "\n",
    "smd3['synopsis'] = smd3['synopsis'].map(lambda x: x.lower())\n",
    "smd3['director'] = smd3['director'].map(lambda x: x.lower())\n",
    "smd3['actor_name'] = smd3['actor_name'].map(lambda x: x.lower())\n",
    "smd3.actor_name = smd3.actor_name.replace(' ', '', regex=True)\n",
    "\n",
    "# discarding the punctuation between the actors' full names and getting only the first three names\n",
    "smd3['actor_name'] = smd3['actor_name'].map(lambda x: x.split(r'|')[:3])\n",
    "\n",
    "# putting the genres in a list of words\n",
    "smd3['genre'] = smd3['genre'].map(lambda x: x.lower().split(r'/'))\n",
    "\n",
    "smd3['director'] = smd3['director'].map(lambda x: x.split(r'|')[0])\n",
    "\n",
    "                                       \n",
    "smd3.director = smd3.director.replace(' ', '', regex=True)\n",
    "\n",
    "smd3.actor_name = smd3.actor_name.replace(' ', '', regex=True)\n",
    "\n",
    "# merging together first and last name for each actor and director, so it's considered as one word \n",
    "# and there is no mix up between people sharing a first name\n",
    "for index, row in smd3.iterrows():\n",
    "    row['actor_name'] = [x.lower().replace(' ','') for x in row['actor_name']]\n",
    "    row['director'] = ''.join(row['director']).lower()"
   ]
  },
  {
   "cell_type": "code",
   "execution_count": 93,
   "metadata": {},
   "outputs": [],
   "source": [
    "# initializing the new column\n",
    "smd3['Key_words'] = \"\"\n",
    "\n",
    "for index, row in smd3.iterrows():\n",
    "    plot = row['synopsis']\n",
    "    \n",
    "    # instantiating Rake, by default is uses english stopwords from NLTK\n",
    "    # and discard all puntuation characters\n",
    "    r = Rake()\n",
    "\n",
    "    # extracting the words by passing the text\n",
    "    r.extract_keywords_from_text(plot)\n",
    "\n",
    "    # getting the dictionary whith key words and their scores\n",
    "    key_words_dict_scores = r.get_word_degrees()\n",
    "    \n",
    "    # assigning the key words to the new column\n",
    "    row['Key_words'] = list(key_words_dict_scores.keys())\n",
    "\n",
    "# dropping the Plot column\n",
    "smd3.drop(columns = ['synopsis'], inplace = True)"
   ]
  },
  {
   "cell_type": "code",
   "execution_count": 253,
   "metadata": {},
   "outputs": [],
   "source": [
    "smd3 = smd3.drop(['title'], axis=1)"
   ]
  },
  {
   "cell_type": "code",
   "execution_count": 254,
   "metadata": {},
   "outputs": [
    {
     "data": {
      "text/html": [
       "<div>\n",
       "<style scoped>\n",
       "    .dataframe tbody tr th:only-of-type {\n",
       "        vertical-align: middle;\n",
       "    }\n",
       "\n",
       "    .dataframe tbody tr th {\n",
       "        vertical-align: top;\n",
       "    }\n",
       "\n",
       "    .dataframe thead th {\n",
       "        text-align: right;\n",
       "    }\n",
       "</style>\n",
       "<table border=\"1\" class=\"dataframe\">\n",
       "  <thead>\n",
       "    <tr style=\"text-align: right;\">\n",
       "      <th></th>\n",
       "      <th>synopsis</th>\n",
       "      <th>genre</th>\n",
       "      <th>director</th>\n",
       "      <th>actor_name</th>\n",
       "    </tr>\n",
       "    <tr>\n",
       "      <th>movie_id</th>\n",
       "      <th></th>\n",
       "      <th></th>\n",
       "      <th></th>\n",
       "      <th></th>\n",
       "    </tr>\n",
       "  </thead>\n",
       "  <tbody>\n",
       "    <tr>\n",
       "      <th>1800013223</th>\n",
       "      <td>a delightful animated version of mark twain's ...</td>\n",
       "      <td>['action', 'adventure']</td>\n",
       "      <td>richardthorpe</td>\n",
       "      <td>['forresttucker', 'mickeyrooney', 'tonyrandall']</td>\n",
       "    </tr>\n",
       "    <tr>\n",
       "      <th>1800013563</th>\n",
       "      <td>an inspiring tale of a family's struggle to su...</td>\n",
       "      <td>['action', 'adventure']</td>\n",
       "      <td>stewartraffill</td>\n",
       "      <td>['robertlogan', 'susandamanteshaw', 'hamlarsen']</td>\n",
       "    </tr>\n",
       "    <tr>\n",
       "      <th>1800014841</th>\n",
       "      <td>four unforgettable tales of terror from hitchc...</td>\n",
       "      <td>['suspense', 'horror']</td>\n",
       "      <td>alfredhitchcock</td>\n",
       "      <td>['barbarabelgeddes', 'tomewell', 'johnwilliams']</td>\n",
       "    </tr>\n",
       "    <tr>\n",
       "      <th>1800015027</th>\n",
       "      <td>an all-star cast brings lewis carroll's wonder...</td>\n",
       "      <td>['kids', 'family']</td>\n",
       "      <td>harryharris</td>\n",
       "      <td>['ricardomontalban', 'nanettefabray', 'robertc...</td>\n",
       "    </tr>\n",
       "    <tr>\n",
       "      <th>1800015177</th>\n",
       "      <td>the denizens of a rural township are terrorize...</td>\n",
       "      <td>['science fiction', 'fantasy']</td>\n",
       "      <td>dondohler</td>\n",
       "      <td>['donleifert', 'tomgriffith', 'dickdyszel']</td>\n",
       "    </tr>\n",
       "  </tbody>\n",
       "</table>\n",
       "</div>"
      ],
      "text/plain": [
       "                                                     synopsis  \\\n",
       "movie_id                                                        \n",
       "1800013223  a delightful animated version of mark twain's ...   \n",
       "1800013563  an inspiring tale of a family's struggle to su...   \n",
       "1800014841  four unforgettable tales of terror from hitchc...   \n",
       "1800015027  an all-star cast brings lewis carroll's wonder...   \n",
       "1800015177  the denizens of a rural township are terrorize...   \n",
       "\n",
       "                                     genre         director  \\\n",
       "movie_id                                                      \n",
       "1800013223         ['action', 'adventure']    richardthorpe   \n",
       "1800013563         ['action', 'adventure']   stewartraffill   \n",
       "1800014841          ['suspense', 'horror']  alfredhitchcock   \n",
       "1800015027              ['kids', 'family']      harryharris   \n",
       "1800015177  ['science fiction', 'fantasy']        dondohler   \n",
       "\n",
       "                                                   actor_name  \n",
       "movie_id                                                       \n",
       "1800013223   ['forresttucker', 'mickeyrooney', 'tonyrandall']  \n",
       "1800013563   ['robertlogan', 'susandamanteshaw', 'hamlarsen']  \n",
       "1800014841   ['barbarabelgeddes', 'tomewell', 'johnwilliams']  \n",
       "1800015027  ['ricardomontalban', 'nanettefabray', 'robertc...  \n",
       "1800015177        ['donleifert', 'tomgriffith', 'dickdyszel']  "
      ]
     },
     "execution_count": 254,
     "metadata": {},
     "output_type": "execute_result"
    }
   ],
   "source": [
    "smd3.head()"
   ]
  },
  {
   "cell_type": "code",
   "execution_count": null,
   "metadata": {},
   "outputs": [],
   "source": [
    "#Creating the bag of words columns using contextual features synopsis, \n",
    "#genre, director, actor_name\n",
    "smd3['bag_of_words'] = ''\n",
    "columns = smd3.columns\n",
    "for index, row in smd3.iterrows():\n",
    "    words = ''\n",
    "    for col in columns:\n",
    "        if col != 'director':\n",
    "            words = words + ' '.join(row[col])+ ' '\n",
    "        else:\n",
    "            words = words + row[col]+ ' '\n",
    "    row['bag_of_words'] = words\n",
    "    \n",
    "smd3.drop(columns = [col for col in smd3.columns if col!= 'bag_of_words'], inplace = True)"
   ]
  },
  {
   "cell_type": "code",
   "execution_count": 109,
   "metadata": {},
   "outputs": [],
   "source": [
    "loaded_model = loaded_model.rename(columns={'movie_id': 'old_id'})"
   ]
  },
  {
   "cell_type": "code",
   "execution_count": 110,
   "metadata": {},
   "outputs": [
    {
     "data": {
      "text/html": [
       "<div>\n",
       "<style scoped>\n",
       "    .dataframe tbody tr th:only-of-type {\n",
       "        vertical-align: middle;\n",
       "    }\n",
       "\n",
       "    .dataframe tbody tr th {\n",
       "        vertical-align: top;\n",
       "    }\n",
       "\n",
       "    .dataframe thead th {\n",
       "        text-align: right;\n",
       "    }\n",
       "</style>\n",
       "<table border=\"1\" class=\"dataframe\">\n",
       "  <thead>\n",
       "    <tr style=\"text-align: right;\">\n",
       "      <th></th>\n",
       "      <th>old_id</th>\n",
       "      <th>bag_of_words</th>\n",
       "    </tr>\n",
       "  </thead>\n",
       "  <tbody>\n",
       "    <tr>\n",
       "      <th>0</th>\n",
       "      <td>1800013223</td>\n",
       "      <td>action adventure richardthorpe forresttucker m...</td>\n",
       "    </tr>\n",
       "    <tr>\n",
       "      <th>1</th>\n",
       "      <td>1800013563</td>\n",
       "      <td>action adventure stewartraffill robertlogan su...</td>\n",
       "    </tr>\n",
       "    <tr>\n",
       "      <th>2</th>\n",
       "      <td>1800014841</td>\n",
       "      <td>suspense horror alfredhitchcock barbarabelgedd...</td>\n",
       "    </tr>\n",
       "    <tr>\n",
       "      <th>3</th>\n",
       "      <td>1800015027</td>\n",
       "      <td>kids family harryharris ricardomontalban nanet...</td>\n",
       "    </tr>\n",
       "    <tr>\n",
       "      <th>4</th>\n",
       "      <td>1800015177</td>\n",
       "      <td>science fiction fantasy dondohler donleifert t...</td>\n",
       "    </tr>\n",
       "  </tbody>\n",
       "</table>\n",
       "</div>"
      ],
      "text/plain": [
       "       old_id                                       bag_of_words\n",
       "0  1800013223  action adventure richardthorpe forresttucker m...\n",
       "1  1800013563  action adventure stewartraffill robertlogan su...\n",
       "2  1800014841  suspense horror alfredhitchcock barbarabelgedd...\n",
       "3  1800015027  kids family harryharris ricardomontalban nanet...\n",
       "4  1800015177  science fiction fantasy dondohler donleifert t..."
      ]
     },
     "execution_count": 110,
     "metadata": {},
     "output_type": "execute_result"
    }
   ],
   "source": [
    "loaded_model.head()"
   ]
  },
  {
   "cell_type": "code",
   "execution_count": 142,
   "metadata": {},
   "outputs": [],
   "source": [
    "#Merging the dataframe to bring everything together\n",
    "ratings_file = pd.merge(rconc, loaded_model, how='left', on='old_id')"
   ]
  },
  {
   "cell_type": "code",
   "execution_count": 143,
   "metadata": {},
   "outputs": [
    {
     "data": {
      "text/html": [
       "<div>\n",
       "<style scoped>\n",
       "    .dataframe tbody tr th:only-of-type {\n",
       "        vertical-align: middle;\n",
       "    }\n",
       "\n",
       "    .dataframe tbody tr th {\n",
       "        vertical-align: top;\n",
       "    }\n",
       "\n",
       "    .dataframe thead th {\n",
       "        text-align: right;\n",
       "    }\n",
       "</style>\n",
       "<table border=\"1\" class=\"dataframe\">\n",
       "  <thead>\n",
       "    <tr style=\"text-align: right;\">\n",
       "      <th></th>\n",
       "      <th>user_id</th>\n",
       "      <th>film_id</th>\n",
       "      <th>rating</th>\n",
       "      <th>old_id</th>\n",
       "      <th>bag_of_words</th>\n",
       "    </tr>\n",
       "  </thead>\n",
       "  <tbody>\n",
       "    <tr>\n",
       "      <th>0</th>\n",
       "      <td>1</td>\n",
       "      <td>1889</td>\n",
       "      <td>0.916667</td>\n",
       "      <td>1800029049</td>\n",
       "      <td>comedy frankcapra carygrant priscillalane raym...</td>\n",
       "    </tr>\n",
       "    <tr>\n",
       "      <th>1</th>\n",
       "      <td>1</td>\n",
       "      <td>1</td>\n",
       "      <td>0.583333</td>\n",
       "      <td>1804857429</td>\n",
       "      <td>comedy robertluketic reesewitherspoon[ellewood...</td>\n",
       "    </tr>\n",
       "    <tr>\n",
       "      <th>2</th>\n",
       "      <td>1</td>\n",
       "      <td>2</td>\n",
       "      <td>1.000000</td>\n",
       "      <td>1800030906</td>\n",
       "      <td>comedy robertzemeckis michaelj.fox christopher...</td>\n",
       "    </tr>\n",
       "    <tr>\n",
       "      <th>3</th>\n",
       "      <td>1</td>\n",
       "      <td>3</td>\n",
       "      <td>0.833333</td>\n",
       "      <td>1800018548</td>\n",
       "      <td>comedy giljunger andrewkeegan[joeydonner] larr...</td>\n",
       "    </tr>\n",
       "    <tr>\n",
       "      <th>4</th>\n",
       "      <td>1</td>\n",
       "      <td>4</td>\n",
       "      <td>0.666667</td>\n",
       "      <td>1800256362</td>\n",
       "      <td>comedy michaellehmann janeanegarofalo umathurm...</td>\n",
       "    </tr>\n",
       "  </tbody>\n",
       "</table>\n",
       "</div>"
      ],
      "text/plain": [
       "   user_id  film_id    rating      old_id  \\\n",
       "0        1     1889  0.916667  1800029049   \n",
       "1        1        1  0.583333  1804857429   \n",
       "2        1        2  1.000000  1800030906   \n",
       "3        1        3  0.833333  1800018548   \n",
       "4        1        4  0.666667  1800256362   \n",
       "\n",
       "                                        bag_of_words  \n",
       "0  comedy frankcapra carygrant priscillalane raym...  \n",
       "1  comedy robertluketic reesewitherspoon[ellewood...  \n",
       "2  comedy robertzemeckis michaelj.fox christopher...  \n",
       "3  comedy giljunger andrewkeegan[joeydonner] larr...  \n",
       "4  comedy michaellehmann janeanegarofalo umathurm...  "
      ]
     },
     "execution_count": 143,
     "metadata": {},
     "output_type": "execute_result"
    }
   ],
   "source": [
    "ratings_file.head()"
   ]
  },
  {
   "cell_type": "code",
   "execution_count": 146,
   "metadata": {},
   "outputs": [],
   "source": [
    "#ratings_file.to_csv('ratings_file.csv', index=False)"
   ]
  },
  {
   "cell_type": "code",
   "execution_count": 138,
   "metadata": {},
   "outputs": [],
   "source": [
    "rconc = rconc.drop(columns=['index'], axis=1)"
   ]
  },
  {
   "cell_type": "code",
   "execution_count": 115,
   "metadata": {},
   "outputs": [],
   "source": [
    "rconc = pd.concat([r_train, r_test], axis=0)"
   ]
  },
  {
   "cell_type": "code",
   "execution_count": 132,
   "metadata": {},
   "outputs": [],
   "source": [
    "rconc.reset_index(inplace=True)"
   ]
  },
  {
   "cell_type": "code",
   "execution_count": 141,
   "metadata": {},
   "outputs": [],
   "source": [
    "#rconc.to_csv('rconc.csv', index=False)"
   ]
  },
  {
   "cell_type": "code",
   "execution_count": 127,
   "metadata": {},
   "outputs": [],
   "source": [
    "pd.set_option('max_rows', 500)"
   ]
  },
  {
   "cell_type": "code",
   "execution_count": 43,
   "metadata": {},
   "outputs": [],
   "source": [
    "n_users = len(ratings_file.user_id.unique())\n",
    "n_items = len(ratings_file.film_id.unique())"
   ]
  },
  {
   "cell_type": "code",
   "execution_count": 3,
   "metadata": {},
   "outputs": [],
   "source": [
    "class ContentFiltering(object):\n",
    "    '''Method to carry out CF.\n",
    "    Input a pandas dataframe with items and features.\n",
    "    '''\n",
    "\n",
    "    def __init__(self, data):\n",
    "        self.data = data\n",
    "        self.ids = data.index.tolist()\n",
    "\n",
    "    def tfidf_tokenizer(self, documents_column_name):\n",
    "        '''TF-IDF tokenization where documents_column_name points to the\n",
    "        column with the text data needing to be tokenized.\n",
    "        Returns a dataframe with TF-IDF features.'''\n",
    "        tfidf = TfidfVectorizer(\n",
    "            stop_words='english')\n",
    "        tfidf_matrix = tfidf.fit_transform(self.data[documents_column_name])\n",
    "        tfidf_df = pd.DataFrame(tfidf_matrix.toarray(), index=self.ids)\n",
    "        return tfidf_df\n"
   ]
  },
  {
   "cell_type": "code",
   "execution_count": 4,
   "metadata": {},
   "outputs": [],
   "source": [
    "cf = ContentFiltering(ratings_file2)"
   ]
  },
  {
   "cell_type": "code",
   "execution_count": 5,
   "metadata": {},
   "outputs": [],
   "source": [
    "ratings_file2.bagofwords = ratings_file2.bagofwords.fillna('none')"
   ]
  },
  {
   "cell_type": "code",
   "execution_count": 6,
   "metadata": {},
   "outputs": [],
   "source": [
    "tfidfresults = cf.tfidf_tokenizer(documents_column_name='bagofwords')"
   ]
  },
  {
   "cell_type": "code",
   "execution_count": 16,
   "metadata": {},
   "outputs": [
    {
     "data": {
      "text/plain": [
       "(221367, 5)"
      ]
     },
     "execution_count": 16,
     "metadata": {},
     "output_type": "execute_result"
    }
   ],
   "source": [
    "ratings_file2.shape"
   ]
  },
  {
   "cell_type": "code",
   "execution_count": 7,
   "metadata": {},
   "outputs": [],
   "source": [
    "#TF-IDF created a large number of columns so I split the dataset into 15 parts and\n",
    "#applied PCA to each of them individually to reduce computational burden\n",
    "\n",
    "tfidfresults1 = tfidfresults.iloc[:15000,:]\n",
    "tfidfresults2 = tfidfresults.iloc[15000:30000,:]\n",
    "tfidfresults3 = tfidfresults.iloc[30000:45000,:]\n",
    "tfidfresults4 = tfidfresults.iloc[45000:60000,:]\n",
    "tfidfresults5 = tfidfresults.iloc[60000:75000,:]\n",
    "tfidfresults6 = tfidfresults.iloc[75000:90000,:]\n",
    "tfidfresults7 = tfidfresults.iloc[90000:105000,:]\n",
    "tfidfresults8 = tfidfresults.iloc[105000:120000,:]\n",
    "tfidfresults9 = tfidfresults.iloc[120000:135000,:]\n",
    "tfidfresults10 = tfidfresults.iloc[135000:150000,:]\n",
    "tfidfresults11 = tfidfresults.iloc[150000:165000,:]\n",
    "tfidfresults12 = tfidfresults.iloc[165000:180000,:]\n",
    "tfidfresults13 = tfidfresults.iloc[180000:195000,:]\n",
    "tfidfresults14 = tfidfresults.iloc[195000:210000,:]\n",
    "tfidfresults15 = tfidfresults.iloc[210000:, :]"
   ]
  },
  {
   "cell_type": "code",
   "execution_count": 22,
   "metadata": {},
   "outputs": [],
   "source": [
    "#Applying PCA\n",
    "from sklearn.decomposition import PCA\n",
    "pca = PCA(n_components=1)\n",
    "tfidfpca1 = pca.fit_transform(tfidfresults1)\n",
    "tfidfpca2 = pca.fit_transform(tfidfresults2)\n",
    "tfidfpca3 = pca.fit_transform(tfidfresults3)\n",
    "tfidfpca4 = pca.fit_transform(tfidfresults4)\n",
    "tfidfpca5 = pca.fit_transform(tfidfresults5)\n",
    "tfidfpca6 = pca.fit_transform(tfidfresults6)\n",
    "tfidfpca7 = pca.fit_transform(tfidfresults7)\n",
    "tfidfpca8 = pca.fit_transform(tfidfresults8)\n",
    "tfidfpca9 = pca.fit_transform(tfidfresults9)\n",
    "tfidfpca10 = pca.fit_transform(tfidfresults10)\n",
    "tfidfpca11 = pca.fit_transform(tfidfresults11)\n",
    "tfidfpca12 = pca.fit_transform(tfidfresults12)\n",
    "tfidfpca13 = pca.fit_transform(tfidfresults13)\n",
    "tfidfpca14 = pca.fit_transform(tfidfresults14)\n",
    "tfidfpca15 = pca.fit_transform(tfidfresults15)\n",
    "\n"
   ]
  },
  {
   "cell_type": "code",
   "execution_count": 23,
   "metadata": {},
   "outputs": [
    {
     "data": {
      "text/plain": [
       "(11367, 1)"
      ]
     },
     "execution_count": 23,
     "metadata": {},
     "output_type": "execute_result"
    }
   ],
   "source": [
    "tfidfpca15.shape"
   ]
  },
  {
   "cell_type": "code",
   "execution_count": 24,
   "metadata": {},
   "outputs": [],
   "source": [
    "#Converting each array produced by PCA into dataframes before concatenating them\n",
    "#with pd.concat\n",
    "tfidfpcadf1 = pd.DataFrame(tfidfpca1, index=tfidfresults1.index.tolist())\n",
    "tfidfpcadf2 = pd.DataFrame(tfidfpca2, index=tfidfresults2.index.tolist())\n",
    "tfidfpcadf3 = pd.DataFrame(tfidfpca3, index=tfidfresults3.index.tolist())\n",
    "tfidfpcadf4=pd.DataFrame(tfidfpca4,index=tfidfresults4.index.tolist()) \n",
    "tfidfpcadf5= pd.DataFrame(tfidfpca5, index=tfidfresults5.index.tolist())\n",
    "tfidfpcadf6 = pd.DataFrame(tfidfpca6, index=tfidfresults6.index.tolist())\n",
    "tfidfpcadf7 = pd.DataFrame(tfidfpca7, index=tfidfresults7.index.tolist())\n",
    "tfidfpcadf8= pd.DataFrame(tfidfpca8, index=tfidfresults8.index.tolist()) \n",
    "tfidfpcadf9 = pd.DataFrame(tfidfpca9, index=tfidfresults9.index.tolist())\n",
    "tfidfpcadf10=pd.DataFrame(tfidfpca10,index=tfidfresults10.index.tolist()) \n",
    "tfidfpcadf11= pd.DataFrame(tfidfpca11, index=tfidfresults11.index.tolist())\n",
    "tfidfpcadf12 = pd.DataFrame(tfidfpca12, index=tfidfresults12.index.tolist())\n",
    "tfidfpcadf13 = pd.DataFrame(tfidfpca13, index=tfidfresults13.index.tolist())\n",
    "tfidfpcadf14 = pd.DataFrame(tfidfpca14, index=tfidfresults14.index.tolist())\n",
    "tfidfpcadf15 = pd.DataFrame(tfidfpca15, index=tfidfresults15.index.tolist())"
   ]
  },
  {
   "cell_type": "code",
   "execution_count": 25,
   "metadata": {},
   "outputs": [],
   "source": [
    "tfidfpcadfcom = pd.concat([tfidfpcadf1, tfidfpcadf2, tfidfpcadf3, tfidfpcadf4, tfidfpcadf5, tfidfpcadf6, tfidfpcadf7, tfidfpcadf8, tfidfpcadf9, tfidfpcadf10, tfidfpcadf11, tfidfpcadf12, tfidfpcadf13, tfidfpcadf14, tfidfpcadf15], axis=0)"
   ]
  },
  {
   "cell_type": "code",
   "execution_count": 29,
   "metadata": {},
   "outputs": [],
   "source": [
    "tfidfpcadfcom.to_csv('tfidfpcadfcom.csv',index=False)"
   ]
  },
  {
   "cell_type": "code",
   "execution_count": null,
   "metadata": {},
   "outputs": [],
   "source": [
    "tfidfpcadfcom = pd.read_csv('tfidfpcadfcom.csv')"
   ]
  },
  {
   "cell_type": "code",
   "execution_count": 30,
   "metadata": {},
   "outputs": [],
   "source": [
    "#The file containing one column following PCA and concatenation needed renaming\n",
    "tfidfpcadfcom = tfidfpcadfcom.rename({'0':'context'})"
   ]
  }
 ],
 "metadata": {
  "kernelspec": {
   "display_name": "Python 3",
   "language": "python",
   "name": "python3"
  },
  "language_info": {
   "codemirror_mode": {
    "name": "ipython",
    "version": 3
   },
   "file_extension": ".py",
   "mimetype": "text/x-python",
   "name": "python",
   "nbconvert_exporter": "python",
   "pygments_lexer": "ipython3",
   "version": "3.8.5"
  }
 },
 "nbformat": 4,
 "nbformat_minor": 5
}
