{
 "cells": [
  {
   "cell_type": "markdown",
   "metadata": {},
   "source": [
    "## Performing collaborative-filtering with KNNWithMeans and the powerful SVD algorithm"
   ]
  },
  {
   "cell_type": "code",
   "execution_count": null,
   "metadata": {},
   "outputs": [],
   "source": [
    "#Importing the required packages\n",
    "import pandas as pd\n",
    "import numpy as np\n"
   ]
  },
  {
   "cell_type": "code",
   "execution_count": 8,
   "metadata": {},
   "outputs": [],
   "source": [
    "#Loading the user and ratings data file\n",
    "user_ratings = pd.read_csv('ratings_file2.csv')"
   ]
  },
  {
   "cell_type": "code",
   "execution_count": null,
   "metadata": {},
   "outputs": [],
   "source": [
    "#Ordering the dispaly of user ratings for films\n",
    "no_user_voted = user_ratings.groupby('film_id')['rating'].agg('count')\n",
    "no_films_voted = user_ratings.groupby('user_id')['rating'].agg('count')\n"
   ]
  },
  {
   "cell_type": "code",
   "execution_count": 2,
   "metadata": {},
   "outputs": [
    {
     "name": "stdout",
     "output_type": "stream",
     "text": [
      "Collecting surprise\n",
      "  Using cached surprise-0.1-py2.py3-none-any.whl (1.8 kB)\n",
      "Processing ./.cache/pip/wheels/20/91/57/2965d4cff1b8ac7ed1b6fa25741882af3974b54a31759e10b6/scikit_surprise-1.1.1-cp38-cp38-linux_x86_64.whl\n",
      "Requirement already satisfied: six>=1.10.0 in /opt/conda/lib/python3.8/site-packages (from scikit-surprise->surprise) (1.15.0)\n",
      "Requirement already satisfied: scipy>=1.0.0 in /opt/conda/lib/python3.8/site-packages (from scikit-surprise->surprise) (1.5.2)\n",
      "Requirement already satisfied: numpy>=1.11.2 in /opt/conda/lib/python3.8/site-packages (from scikit-surprise->surprise) (1.19.1)\n",
      "Requirement already satisfied: joblib>=0.11 in /opt/conda/lib/python3.8/site-packages (from scikit-surprise->surprise) (0.16.0)\n",
      "Installing collected packages: scikit-surprise, surprise\n",
      "Successfully installed scikit-surprise-1.1.1 surprise-0.1\n"
     ]
    }
   ],
   "source": [
    "#Installing the surprise library for recommmendation systems\n",
    "!pip install surprise"
   ]
  },
  {
   "cell_type": "code",
   "execution_count": 3,
   "metadata": {},
   "outputs": [],
   "source": [
    "#Importing from surprise\n",
    "from surprise import Reader, Dataset, SVD, KNNBasic, KNNWithMeans\n",
    "from surprise.model_selection import train_test_split\n",
    "from surprise import accuracy"
   ]
  },
  {
   "cell_type": "code",
   "execution_count": 4,
   "metadata": {},
   "outputs": [],
   "source": [
    "reader = Reader(rating_scale=(0,1), line_format='user item rating', sep=',')\n",
    "data = Dataset.load_from_file('user_ratings.csv', reader)"
   ]
  },
  {
   "cell_type": "code",
   "execution_count": 5,
   "metadata": {},
   "outputs": [],
   "source": [
    "trainset, testset = train_test_split(data, test_size=0.15)"
   ]
  },
  {
   "cell_type": "code",
   "execution_count": 8,
   "metadata": {},
   "outputs": [],
   "source": [
    "#trainsetfull = data.build_full_trainset()"
   ]
  },
  {
   "cell_type": "code",
   "execution_count": 10,
   "metadata": {},
   "outputs": [
    {
     "name": "stdout",
     "output_type": "stream",
     "text": [
      "171994 7635\n"
     ]
    }
   ],
   "source": [
    "print(trainset.n_users,trainset.n_items)"
   ]
  },
  {
   "cell_type": "code",
   "execution_count": 7,
   "metadata": {},
   "outputs": [],
   "source": [
    "import pandas as pd\n",
    "user_ratings = pd.read_csv('user_ratings.csv', header=None)"
   ]
  },
  {
   "cell_type": "code",
   "execution_count": 21,
   "metadata": {},
   "outputs": [],
   "source": [
    "user_ratings = user_ratings.drop([0],axis=0)"
   ]
  },
  {
   "cell_type": "code",
   "execution_count": 12,
   "metadata": {},
   "outputs": [
    {
     "name": "stdout",
     "output_type": "stream",
     "text": [
      "Computing the msd similarity matrix...\n",
      "Done computing similarity matrix.\n",
      "MSE: 0.0641\n",
      "MAE:  0.1829\n",
      "RMSE: 0.2531\n"
     ]
    },
    {
     "data": {
      "text/plain": [
       "0.2531001951211864"
      ]
     },
     "execution_count": 12,
     "metadata": {},
     "output_type": "execute_result"
    }
   ],
   "source": [
    "#itembased cf using pearson similarity and KNNWithMeans\n",
    "my_k = 15\n",
    "my_min_k = 5\n",
    "my_sim_option = {'name':'pearson', 'user_based':False}\n",
    "\n",
    "algo = KNNWithMeans(k=my_k, min_k=my_min_k,sim_option=my_sim_option)\n",
    "algo.fit(trainset)\n",
    "\n",
    "predictions = algo.test(testset)\n",
    "accuracy.mse(predictions)\n",
    "accuracy.mae(predictions)\n",
    "accuracy.rmse(predictions)"
   ]
  },
  {
   "cell_type": "code",
   "execution_count": 19,
   "metadata": {},
   "outputs": [
    {
     "name": "stdout",
     "output_type": "stream",
     "text": [
      "Computing the msd similarity matrix...\n",
      "Done computing similarity matrix.\n",
      "MSE: 0.0641\n",
      "MAE:  0.1829\n"
     ]
    },
    {
     "data": {
      "text/plain": [
       "0.18286298415419142"
      ]
     },
     "execution_count": 19,
     "metadata": {},
     "output_type": "execute_result"
    }
   ],
   "source": [
    "#userbased cf using pearson similarity and KNNWithMeans\n",
    "my_k = 15\n",
    "my_min_k = 5\n",
    "my_sim_option = {'name':'pearson', 'user_based':True}\n",
    "\n",
    "algo = KNNWithMeans(k=my_k, min_k=my_min_k,sim_option=my_sim_option)\n",
    "algo.fit(trainset)\n",
    "\n",
    "predictions = algo.test(testset)\n",
    "accuracy.mse(predictions)\n",
    "accuracy.mae(predictions)"
   ]
  },
  {
   "cell_type": "code",
   "execution_count": 14,
   "metadata": {},
   "outputs": [
    {
     "name": "stdout",
     "output_type": "stream",
     "text": [
      "Computing the msd similarity matrix...\n",
      "Done computing similarity matrix.\n",
      "MSE: 0.0641\n",
      "MAE:  0.1829\n",
      "RMSE: 0.2531\n"
     ]
    },
    {
     "data": {
      "text/plain": [
       "0.2531001951211864"
      ]
     },
     "execution_count": 14,
     "metadata": {},
     "output_type": "execute_result"
    }
   ],
   "source": [
    "#userbased cf using cosine similarity and KNNWithMeans\n",
    "my_k = 15\n",
    "my_min_k = 5\n",
    "my_sim_option = {'name':'cosine', 'user_based':True}\n",
    "\n",
    "algo = KNNWithMeans(k=my_k, min_k=my_min_k,sim_option=my_sim_option)\n",
    "algo.fit(trainset)\n",
    "\n",
    "#predictions = algo.test(testset)\n",
    "accuracy.mse(predictions)\n",
    "accuracy.mae(predictions)\n",
    "accuracy.rmse(predictions)"
   ]
  },
  {
   "cell_type": "code",
   "execution_count": 20,
   "metadata": {},
   "outputs": [
    {
     "name": "stdout",
     "output_type": "stream",
     "text": [
      "Computing the msd similarity matrix...\n",
      "Done computing similarity matrix.\n",
      "MSE: 0.0641\n",
      "MAE:  0.1829\n"
     ]
    },
    {
     "data": {
      "text/plain": [
       "0.18286298415419142"
      ]
     },
     "execution_count": 20,
     "metadata": {},
     "output_type": "execute_result"
    }
   ],
   "source": [
    "#itembased cf using cosine similarity and KNNWithMeans\n",
    "my_k = 15\n",
    "my_min_k = 5\n",
    "my_sim_option = {'name':'cosine', 'user_based':False}\n",
    "\n",
    "algo = KNNWithMeans(k=my_k, min_k=my_min_k,sim_option=my_sim_option)\n",
    "algo.fit(trainset)\n",
    "\n",
    "\n",
    "\n",
    "predictions = algo.test(testset)\n",
    "accuracy.mse(predictions)\n",
    "accuracy.mae(predictions)\n",
    "accuracy.rmse(predictions)"
   ]
  },
  {
   "cell_type": "code",
   "execution_count": 21,
   "metadata": {},
   "outputs": [
    {
     "name": "stdout",
     "output_type": "stream",
     "text": [
      "MSE: 0.0634\n",
      "MAE:  0.1850\n",
      "RMSE: 0.2518\n"
     ]
    },
    {
     "data": {
      "text/plain": [
       "0.2517772376995292"
      ]
     },
     "execution_count": 21,
     "metadata": {},
     "output_type": "execute_result"
    }
   ],
   "source": [
    "#calculating the pwoerful SVD algorithm to predict ratings\n",
    "algo = SVD()\n",
    "algo.fit(trainset)\n",
    "\n",
    "\n",
    "\n",
    "predictions = algo.test(testset)\n",
    "accuracy.mse(predictions)\n",
    "accuracy.mae(predictions)\n",
    "accuracy.rmse(predictions)"
   ]
  }
 ],
 "metadata": {
  "kernelspec": {
   "display_name": "Python 3",
   "language": "python",
   "name": "python3"
  },
  "language_info": {
   "codemirror_mode": {
    "name": "ipython",
    "version": 3
   },
   "file_extension": ".py",
   "mimetype": "text/x-python",
   "name": "python",
   "nbconvert_exporter": "python",
   "pygments_lexer": "ipython3",
   "version": "3.8.5"
  }
 },
 "nbformat": 4,
 "nbformat_minor": 5
}
